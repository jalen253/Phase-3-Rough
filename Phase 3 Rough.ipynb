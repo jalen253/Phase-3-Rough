{
 "cells": [
  {
   "cell_type": "markdown",
   "id": "79841281",
   "metadata": {},
   "source": [
    "The city of seattle wants to minimize costs and it wants to start with public sectors. When could seattle cut back upon the terry stops method of stopping. because it dosent lead to arrest. "
   ]
  },
  {
   "cell_type": "code",
   "execution_count": 1,
   "id": "57498006",
   "metadata": {},
   "outputs": [
    {
     "name": "stdout",
     "output_type": "stream",
     "text": [
      "Collecting yellowbrick\n",
      "  Using cached yellowbrick-1.3.post1-py3-none-any.whl (271 kB)\n",
      "Requirement already satisfied: scipy>=1.0.0 in c:\\users\\metropolitanparkapts\\anaconda3\\lib\\site-packages (from yellowbrick) (1.6.2)\n",
      "Requirement already satisfied: cycler>=0.10.0 in c:\\users\\metropolitanparkapts\\anaconda3\\lib\\site-packages (from yellowbrick) (0.10.0)\n",
      "Requirement already satisfied: scikit-learn>=0.20 in c:\\users\\metropolitanparkapts\\anaconda3\\lib\\site-packages (from yellowbrick) (1.0.2)\n",
      "Requirement already satisfied: matplotlib!=3.0.0,>=2.0.2 in c:\\users\\metropolitanparkapts\\anaconda3\\lib\\site-packages (from yellowbrick) (3.3.4)\n",
      "Requirement already satisfied: numpy<1.20,>=1.16.0 in c:\\users\\metropolitanparkapts\\anaconda3\\lib\\site-packages (from yellowbrick) (1.19.5)\n",
      "Requirement already satisfied: six in c:\\users\\metropolitanparkapts\\anaconda3\\lib\\site-packages (from cycler>=0.10.0->yellowbrick) (1.15.0)\n",
      "Requirement already satisfied: pyparsing!=2.0.4,!=2.1.2,!=2.1.6,>=2.0.3 in c:\\users\\metropolitanparkapts\\anaconda3\\lib\\site-packages (from matplotlib!=3.0.0,>=2.0.2->yellowbrick) (2.4.7)\n",
      "Requirement already satisfied: kiwisolver>=1.0.1 in c:\\users\\metropolitanparkapts\\anaconda3\\lib\\site-packages (from matplotlib!=3.0.0,>=2.0.2->yellowbrick) (1.3.1)\n",
      "Requirement already satisfied: python-dateutil>=2.1 in c:\\users\\metropolitanparkapts\\anaconda3\\lib\\site-packages (from matplotlib!=3.0.0,>=2.0.2->yellowbrick) (2.8.1)\n",
      "Requirement already satisfied: pillow>=6.2.0 in c:\\users\\metropolitanparkapts\\anaconda3\\lib\\site-packages (from matplotlib!=3.0.0,>=2.0.2->yellowbrick) (8.2.0)\n",
      "Requirement already satisfied: threadpoolctl>=2.0.0 in c:\\users\\metropolitanparkapts\\anaconda3\\lib\\site-packages (from scikit-learn>=0.20->yellowbrick) (2.1.0)\n",
      "Requirement already satisfied: joblib>=0.11 in c:\\users\\metropolitanparkapts\\anaconda3\\lib\\site-packages (from scikit-learn>=0.20->yellowbrick) (1.0.1)\n",
      "Installing collected packages: yellowbrick\n",
      "Successfully installed yellowbrick-1.3.post1\n"
     ]
    }
   ],
   "source": [
    "import pandas as pd \n",
    "import pandas as pd\n",
    "import numpy as np\n",
    "from sklearn.model_selection import train_test_split, GridSearchCV, cross_val_score\n",
    "from sklearn.preprocessing import StandardScaler, LabelEncoder, OneHotEncoder\n",
    "from sklearn.linear_model import LogisticRegression\n",
    "from sklearn.metrics import accuracy_score, recall_score, precision_score, f1_score\n",
    "from matplotlib import pyplot as plt\n",
    "%matplotlib inline\n",
    "import seaborn as sns\n",
    "from sklearn.metrics import plot_confusion_matrix\n",
    "from sklearn.dummy import DummyClassifier\n",
    "from datetime import datetime as dt\n",
    "from sklearn.tree import  DecisionTreeRegressor, DecisionTreeClassifier\n",
    "from sklearn.compose import make_column_transformer\n",
    "from sklearn.metrics import plot_confusion_matrix, accuracy_score, recall_score, f1_score, precision_score,\\\n",
    "    classification_report, roc_auc_score\n",
    "from sklearn.pipeline import Pipeline\n",
    "from sklearn.ensemble import RandomForestClassifier\n",
    "from sklearn.compose import ColumnTransformer\n",
    "from sklearn.neighbors import KNeighborsClassifier, NearestNeighbors\n",
    "from sklearn.model_selection import train_test_split, KFold, GridSearchCV\n",
    "from sklearn.metrics import roc_curve\n",
    "from sklearn.metrics import roc_auc_score\n",
    "from sklearn.metrics import precision_recall_curve\n",
    "from sklearn.metrics import auc\n",
    "! pip install yellowbrick\n",
    "from yellowbrick.classifier import classification_report\n",
    "terry = pd.read_csv('Terry_Stops.csv')"
   ]
  },
  {
   "cell_type": "markdown",
   "id": "f00f8a49",
   "metadata": {},
   "source": [
    "# Overview \n",
    "## Terry Stops\n",
    "In Terry v. Ohio (Links to an external site.), a landmark Supreme Court case in 1967-8, the court found that a police officer was not in violation of the \"unreasonable search and seizure\" clause of the Fourth Amendment, even though he stopped and frisked a couple of suspects only because their behavior was suspicious. Thus was born the notion of \"reasonable suspicion\", according to which an agent of the police may e.g. temporarily detain a person, even in the absence of clearer evidence that would be required for full-blown arrests etc. Terry Stops are stops made of suspicious drivers."
   ]
  },
  {
   "cell_type": "markdown",
   "id": "1d0f97ac",
   "metadata": {},
   "source": [
    "# Business Problem\n",
    "\n",
    "### The stakeholder for this project is Valor for Blue https://www.valorforblue.org/\n",
    "\n",
    "I was tasked with analyzing the different features corresponding to Terry stops \n",
    " \n",
    "the goal is to create a model that can predict whether or not an arrest will be made during the traffic stop to help officers be better prepared for the stops that take place\n",
    "\n",
    "We are dealing with human life in our data and we want to prioritize safety and being the best preparedness possibe..  When there are any false predictions I want to emphasize false positives (youre going to jail even when you don't have to) over false Negative (You aren't going to jail when you should) \n",
    "\n",
    "This is due to the fact that we don't want to lose the lives of any of our officers and the more prepared they are for weapons the better the situation can be maintained and alliveated\n",
    "\n",
    "The actionable plan will be to know when and what to train and when to send more experienced officers on terry stops vs the newbies"
   ]
  },
  {
   "cell_type": "code",
   "execution_count": 2,
   "id": "46053474",
   "metadata": {},
   "outputs": [
    {
     "data": {
      "text/html": [
       "<div>\n",
       "<style scoped>\n",
       "    .dataframe tbody tr th:only-of-type {\n",
       "        vertical-align: middle;\n",
       "    }\n",
       "\n",
       "    .dataframe tbody tr th {\n",
       "        vertical-align: top;\n",
       "    }\n",
       "\n",
       "    .dataframe thead th {\n",
       "        text-align: right;\n",
       "    }\n",
       "</style>\n",
       "<table border=\"1\" class=\"dataframe\">\n",
       "  <thead>\n",
       "    <tr style=\"text-align: right;\">\n",
       "      <th></th>\n",
       "      <th>Subject Age Group</th>\n",
       "      <th>Subject ID</th>\n",
       "      <th>GO / SC Num</th>\n",
       "      <th>Terry Stop ID</th>\n",
       "      <th>Stop Resolution</th>\n",
       "      <th>Weapon Type</th>\n",
       "      <th>Officer ID</th>\n",
       "      <th>Officer YOB</th>\n",
       "      <th>Officer Gender</th>\n",
       "      <th>Officer Race</th>\n",
       "      <th>...</th>\n",
       "      <th>Reported Time</th>\n",
       "      <th>Initial Call Type</th>\n",
       "      <th>Final Call Type</th>\n",
       "      <th>Call Type</th>\n",
       "      <th>Officer Squad</th>\n",
       "      <th>Arrest Flag</th>\n",
       "      <th>Frisk Flag</th>\n",
       "      <th>Precinct</th>\n",
       "      <th>Sector</th>\n",
       "      <th>Beat</th>\n",
       "    </tr>\n",
       "  </thead>\n",
       "  <tbody>\n",
       "    <tr>\n",
       "      <th>0</th>\n",
       "      <td>-</td>\n",
       "      <td>-1</td>\n",
       "      <td>20150000001463</td>\n",
       "      <td>28806</td>\n",
       "      <td>Field Contact</td>\n",
       "      <td>None</td>\n",
       "      <td>5670</td>\n",
       "      <td>1965</td>\n",
       "      <td>M</td>\n",
       "      <td>White</td>\n",
       "      <td>...</td>\n",
       "      <td>07:59:00</td>\n",
       "      <td>-</td>\n",
       "      <td>-</td>\n",
       "      <td>-</td>\n",
       "      <td>NaN</td>\n",
       "      <td>N</td>\n",
       "      <td>N</td>\n",
       "      <td>-</td>\n",
       "      <td>-</td>\n",
       "      <td>-</td>\n",
       "    </tr>\n",
       "    <tr>\n",
       "      <th>1</th>\n",
       "      <td>-</td>\n",
       "      <td>-1</td>\n",
       "      <td>20150000001516</td>\n",
       "      <td>29599</td>\n",
       "      <td>Field Contact</td>\n",
       "      <td>None</td>\n",
       "      <td>4844</td>\n",
       "      <td>1961</td>\n",
       "      <td>M</td>\n",
       "      <td>White</td>\n",
       "      <td>...</td>\n",
       "      <td>19:12:00</td>\n",
       "      <td>-</td>\n",
       "      <td>-</td>\n",
       "      <td>-</td>\n",
       "      <td>NaN</td>\n",
       "      <td>N</td>\n",
       "      <td>-</td>\n",
       "      <td>-</td>\n",
       "      <td>-</td>\n",
       "      <td>-</td>\n",
       "    </tr>\n",
       "    <tr>\n",
       "      <th>2</th>\n",
       "      <td>-</td>\n",
       "      <td>-1</td>\n",
       "      <td>20150000001739</td>\n",
       "      <td>33155</td>\n",
       "      <td>Field Contact</td>\n",
       "      <td>None</td>\n",
       "      <td>6973</td>\n",
       "      <td>1977</td>\n",
       "      <td>M</td>\n",
       "      <td>White</td>\n",
       "      <td>...</td>\n",
       "      <td>00:41:00</td>\n",
       "      <td>-</td>\n",
       "      <td>-</td>\n",
       "      <td>-</td>\n",
       "      <td>NaN</td>\n",
       "      <td>N</td>\n",
       "      <td>N</td>\n",
       "      <td>-</td>\n",
       "      <td>-</td>\n",
       "      <td>-</td>\n",
       "    </tr>\n",
       "    <tr>\n",
       "      <th>3</th>\n",
       "      <td>-</td>\n",
       "      <td>-1</td>\n",
       "      <td>20150000002351</td>\n",
       "      <td>45252</td>\n",
       "      <td>Field Contact</td>\n",
       "      <td>None</td>\n",
       "      <td>7591</td>\n",
       "      <td>1985</td>\n",
       "      <td>M</td>\n",
       "      <td>Hispanic or Latino</td>\n",
       "      <td>...</td>\n",
       "      <td>21:39:00</td>\n",
       "      <td>-</td>\n",
       "      <td>-</td>\n",
       "      <td>-</td>\n",
       "      <td>WEST PCT 3RD W - MARY</td>\n",
       "      <td>N</td>\n",
       "      <td>N</td>\n",
       "      <td>-</td>\n",
       "      <td>-</td>\n",
       "      <td>-</td>\n",
       "    </tr>\n",
       "    <tr>\n",
       "      <th>4</th>\n",
       "      <td>-</td>\n",
       "      <td>-1</td>\n",
       "      <td>20150000002392</td>\n",
       "      <td>45365</td>\n",
       "      <td>Field Contact</td>\n",
       "      <td>None</td>\n",
       "      <td>7560</td>\n",
       "      <td>1986</td>\n",
       "      <td>M</td>\n",
       "      <td>White</td>\n",
       "      <td>...</td>\n",
       "      <td>07:39:00</td>\n",
       "      <td>-</td>\n",
       "      <td>-</td>\n",
       "      <td>-</td>\n",
       "      <td>SOUTH PCT 1ST W - R/S RELIEF</td>\n",
       "      <td>N</td>\n",
       "      <td>N</td>\n",
       "      <td>East</td>\n",
       "      <td>E</td>\n",
       "      <td>E2</td>\n",
       "    </tr>\n",
       "  </tbody>\n",
       "</table>\n",
       "<p>5 rows × 23 columns</p>\n",
       "</div>"
      ],
      "text/plain": [
       "  Subject Age Group  Subject ID     GO / SC Num  Terry Stop ID  \\\n",
       "0                 -          -1  20150000001463          28806   \n",
       "1                 -          -1  20150000001516          29599   \n",
       "2                 -          -1  20150000001739          33155   \n",
       "3                 -          -1  20150000002351          45252   \n",
       "4                 -          -1  20150000002392          45365   \n",
       "\n",
       "  Stop Resolution Weapon Type Officer ID  Officer YOB Officer Gender  \\\n",
       "0   Field Contact        None     5670           1965              M   \n",
       "1   Field Contact        None     4844           1961              M   \n",
       "2   Field Contact        None     6973           1977              M   \n",
       "3   Field Contact        None     7591           1985              M   \n",
       "4   Field Contact        None     7560           1986              M   \n",
       "\n",
       "         Officer Race  ... Reported Time Initial Call Type Final Call Type  \\\n",
       "0               White  ...      07:59:00                 -               -   \n",
       "1               White  ...      19:12:00                 -               -   \n",
       "2               White  ...      00:41:00                 -               -   \n",
       "3  Hispanic or Latino  ...      21:39:00                 -               -   \n",
       "4               White  ...      07:39:00                 -               -   \n",
       "\n",
       "  Call Type                 Officer Squad Arrest Flag Frisk Flag Precinct  \\\n",
       "0         -                           NaN           N          N        -   \n",
       "1         -                           NaN           N          -        -   \n",
       "2         -                           NaN           N          N        -   \n",
       "3         -         WEST PCT 3RD W - MARY           N          N        -   \n",
       "4         -  SOUTH PCT 1ST W - R/S RELIEF           N          N     East   \n",
       "\n",
       "   Sector    Beat  \n",
       "0       -       -  \n",
       "1       -       -  \n",
       "2       -       -  \n",
       "3       -       -  \n",
       "4  E       E2      \n",
       "\n",
       "[5 rows x 23 columns]"
      ]
     },
     "execution_count": 2,
     "metadata": {},
     "output_type": "execute_result"
    }
   ],
   "source": [
    "terry.head()"
   ]
  },
  {
   "cell_type": "code",
   "execution_count": 3,
   "id": "2b8b3a63",
   "metadata": {},
   "outputs": [],
   "source": [
    "# Data Understanding\n"
   ]
  },
  {
   "cell_type": "code",
   "execution_count": 4,
   "id": "03103bea",
   "metadata": {},
   "outputs": [
    {
     "data": {
      "text/html": [
       "<div>\n",
       "<style scoped>\n",
       "    .dataframe tbody tr th:only-of-type {\n",
       "        vertical-align: middle;\n",
       "    }\n",
       "\n",
       "    .dataframe tbody tr th {\n",
       "        vertical-align: top;\n",
       "    }\n",
       "\n",
       "    .dataframe thead th {\n",
       "        text-align: right;\n",
       "    }\n",
       "</style>\n",
       "<table border=\"1\" class=\"dataframe\">\n",
       "  <thead>\n",
       "    <tr style=\"text-align: right;\">\n",
       "      <th></th>\n",
       "      <th>Subject ID</th>\n",
       "      <th>GO / SC Num</th>\n",
       "      <th>Terry Stop ID</th>\n",
       "      <th>Officer YOB</th>\n",
       "    </tr>\n",
       "  </thead>\n",
       "  <tbody>\n",
       "    <tr>\n",
       "      <th>count</th>\n",
       "      <td>5.008800e+04</td>\n",
       "      <td>5.008800e+04</td>\n",
       "      <td>5.008800e+04</td>\n",
       "      <td>50088.000000</td>\n",
       "    </tr>\n",
       "    <tr>\n",
       "      <th>mean</th>\n",
       "      <td>3.278046e+09</td>\n",
       "      <td>2.017759e+13</td>\n",
       "      <td>4.986949e+09</td>\n",
       "      <td>1983.220951</td>\n",
       "    </tr>\n",
       "    <tr>\n",
       "      <th>std</th>\n",
       "      <td>5.775792e+09</td>\n",
       "      <td>9.209445e+10</td>\n",
       "      <td>8.259486e+09</td>\n",
       "      <td>9.080500</td>\n",
       "    </tr>\n",
       "    <tr>\n",
       "      <th>min</th>\n",
       "      <td>-1.000000e+00</td>\n",
       "      <td>-1.000000e+00</td>\n",
       "      <td>2.802000e+04</td>\n",
       "      <td>1900.000000</td>\n",
       "    </tr>\n",
       "    <tr>\n",
       "      <th>25%</th>\n",
       "      <td>-1.000000e+00</td>\n",
       "      <td>2.016000e+13</td>\n",
       "      <td>1.931408e+05</td>\n",
       "      <td>1979.000000</td>\n",
       "    </tr>\n",
       "    <tr>\n",
       "      <th>50%</th>\n",
       "      <td>-1.000000e+00</td>\n",
       "      <td>2.018000e+13</td>\n",
       "      <td>4.276495e+05</td>\n",
       "      <td>1985.000000</td>\n",
       "    </tr>\n",
       "    <tr>\n",
       "      <th>75%</th>\n",
       "      <td>7.727798e+09</td>\n",
       "      <td>2.019000e+13</td>\n",
       "      <td>1.055138e+10</td>\n",
       "      <td>1990.000000</td>\n",
       "    </tr>\n",
       "    <tr>\n",
       "      <th>max</th>\n",
       "      <td>3.134823e+10</td>\n",
       "      <td>2.022000e+13</td>\n",
       "      <td>3.134973e+10</td>\n",
       "      <td>1998.000000</td>\n",
       "    </tr>\n",
       "  </tbody>\n",
       "</table>\n",
       "</div>"
      ],
      "text/plain": [
       "         Subject ID   GO / SC Num  Terry Stop ID   Officer YOB\n",
       "count  5.008800e+04  5.008800e+04   5.008800e+04  50088.000000\n",
       "mean   3.278046e+09  2.017759e+13   4.986949e+09   1983.220951\n",
       "std    5.775792e+09  9.209445e+10   8.259486e+09      9.080500\n",
       "min   -1.000000e+00 -1.000000e+00   2.802000e+04   1900.000000\n",
       "25%   -1.000000e+00  2.016000e+13   1.931408e+05   1979.000000\n",
       "50%   -1.000000e+00  2.018000e+13   4.276495e+05   1985.000000\n",
       "75%    7.727798e+09  2.019000e+13   1.055138e+10   1990.000000\n",
       "max    3.134823e+10  2.022000e+13   3.134973e+10   1998.000000"
      ]
     },
     "execution_count": 4,
     "metadata": {},
     "output_type": "execute_result"
    }
   ],
   "source": [
    "terry.describe(datetime_is_numeric=True)"
   ]
  },
  {
   "cell_type": "markdown",
   "id": "733bf004",
   "metadata": {},
   "source": [
    "Looking at the Information all of the information Dtypes is objects......Great!"
   ]
  },
  {
   "cell_type": "code",
   "execution_count": 5,
   "id": "9649d0c3",
   "metadata": {},
   "outputs": [
    {
     "name": "stdout",
     "output_type": "stream",
     "text": [
      "<class 'pandas.core.frame.DataFrame'>\n",
      "RangeIndex: 50088 entries, 0 to 50087\n",
      "Data columns (total 23 columns):\n",
      " #   Column                    Non-Null Count  Dtype \n",
      "---  ------                    --------------  ----- \n",
      " 0   Subject Age Group         50088 non-null  object\n",
      " 1   Subject ID                50088 non-null  int64 \n",
      " 2   GO / SC Num               50088 non-null  int64 \n",
      " 3   Terry Stop ID             50088 non-null  int64 \n",
      " 4   Stop Resolution           50088 non-null  object\n",
      " 5   Weapon Type               50088 non-null  object\n",
      " 6   Officer ID                50088 non-null  object\n",
      " 7   Officer YOB               50088 non-null  int64 \n",
      " 8   Officer Gender            50088 non-null  object\n",
      " 9   Officer Race              50088 non-null  object\n",
      " 10  Subject Perceived Race    50088 non-null  object\n",
      " 11  Subject Perceived Gender  50088 non-null  object\n",
      " 12  Reported Date             50088 non-null  object\n",
      " 13  Reported Time             50088 non-null  object\n",
      " 14  Initial Call Type         50088 non-null  object\n",
      " 15  Final Call Type           50088 non-null  object\n",
      " 16  Call Type                 50088 non-null  object\n",
      " 17  Officer Squad             49479 non-null  object\n",
      " 18  Arrest Flag               50088 non-null  object\n",
      " 19  Frisk Flag                50088 non-null  object\n",
      " 20  Precinct                  50088 non-null  object\n",
      " 21  Sector                    50088 non-null  object\n",
      " 22  Beat                      50088 non-null  object\n",
      "dtypes: int64(4), object(19)\n",
      "memory usage: 8.8+ MB\n"
     ]
    }
   ],
   "source": [
    "terry.info()"
   ]
  },
  {
   "cell_type": "markdown",
   "id": "c4ad083e",
   "metadata": {},
   "source": [
    "#  DataCleaning "
   ]
  },
  {
   "cell_type": "markdown",
   "id": "6bf237d9",
   "metadata": {},
   "source": [
    "### We Want to clean up the data as to drop columns that do not have a direct influence on the stop or what could happen\n",
    "#### Unfortunately Subjects Percieved Race will be the only sensitive data I am using today as that has a direct influence on the assumptions of the stop. "
   ]
  },
  {
   "cell_type": "code",
   "execution_count": 6,
   "id": "2bcf78fe",
   "metadata": {},
   "outputs": [
    {
     "name": "stdout",
     "output_type": "stream",
     "text": [
      "<class 'pandas.core.frame.DataFrame'>\n",
      "RangeIndex: 50088 entries, 0 to 50087\n",
      "Data columns (total 6 columns):\n",
      " #   Column                  Non-Null Count  Dtype \n",
      "---  ------                  --------------  ----- \n",
      " 0   Subject Age Group       50088 non-null  object\n",
      " 1   Stop Resolution         50088 non-null  object\n",
      " 2   Weapon Type             50088 non-null  object\n",
      " 3   Officer YOB             50088 non-null  int64 \n",
      " 4   Subject Perceived Race  50088 non-null  object\n",
      " 5   Reported Date           50088 non-null  object\n",
      "dtypes: int64(1), object(5)\n",
      "memory usage: 2.3+ MB\n"
     ]
    }
   ],
   "source": [
    "#Column in Which We Dropped Everthing they do not help us answer the question\n",
    "\n",
    "terry.drop(columns = ['Subject ID', 'GO / SC Num','Officer Squad','Terry Stop ID', 'Sector', 'Officer Gender', 'Call Type', 'Officer Race','Officer ID','Final Call Type','Reported Time','Initial Call Type', 'Precinct','Arrest Flag','Frisk Flag','Sector','Beat','Subject Perceived Gender'], inplace = True)\n",
    "terry.info()"
   ]
  },
  {
   "cell_type": "markdown",
   "id": "28c9b200",
   "metadata": {},
   "source": [
    "\n",
    "## Column Stop Resolution \n",
    "\n",
    "##### Focusing First on The results of the stop we want to get dummy for the stops to put them in there own columns. This way despite the presence of a weapon we can see how the stop was handled \n",
    "\n"
   ]
  },
  {
   "cell_type": "code",
   "execution_count": 7,
   "id": "b731f618",
   "metadata": {},
   "outputs": [
    {
     "data": {
      "text/plain": [
       "Field Contact               0.411176\n",
       "Offense Report              0.322433\n",
       "Arrest                      0.248143\n",
       "Referred for Prosecution    0.014534\n",
       "Citation / Infraction       0.003713\n",
       "Name: Stop Resolution, dtype: float64"
      ]
     },
     "execution_count": 7,
     "metadata": {},
     "output_type": "execute_result"
    }
   ],
   "source": [
    "terry['Stop Resolution'].value_counts(normalize = True)"
   ]
  },
  {
   "cell_type": "code",
   "execution_count": 8,
   "id": "a9fd22d9",
   "metadata": {},
   "outputs": [],
   "source": [
    "Target_Stop_Resolution = pd.get_dummies(terry['Stop Resolution'])\n",
    "terry = pd.concat([terry, Target_Stop_Resolution], axis = 1)\n"
   ]
  },
  {
   "cell_type": "code",
   "execution_count": 9,
   "id": "92d9e628",
   "metadata": {},
   "outputs": [],
   "source": [
    "terry.drop(columns = ['Stop Resolution'], inplace = True)"
   ]
  },
  {
   "cell_type": "code",
   "execution_count": null,
   "id": "57f864a2",
   "metadata": {},
   "outputs": [],
   "source": []
  },
  {
   "cell_type": "markdown",
   "id": "2625b139",
   "metadata": {},
   "source": [
    "## Column Subject Age Group\n",
    "\n",
    "#### Upon finding out the age of a person they are placed into an age group. If it is deemed that this particular age group is more often times carrying a weapon of sorts officers will be better prepared to deal with the presence of such an Item "
   ]
  },
  {
   "cell_type": "code",
   "execution_count": 10,
   "id": "61d6d25e",
   "metadata": {},
   "outputs": [],
   "source": [
    "terry['Subject Age Group'].replace(to_replace = '-', value = '26 - 35', inplace = True)\n",
    "#removing the dash in the age group and replacing the dash with the mode of the age group which is 26-35"
   ]
  },
  {
   "cell_type": "code",
   "execution_count": 11,
   "id": "9580c28f",
   "metadata": {},
   "outputs": [],
   "source": [
    "terry['Subject Age Group'] = terry['Subject Age Group'].map({'26 - 35': 3, '36 - 45': 4, '18 - 25': 2,'46 - 55':5, '56 and Above': 6, '1 - 17':1})\n",
    "\n",
    "#applying a general map to the age group this way theyy all fit into classes sort of like a bin "
   ]
  },
  {
   "cell_type": "code",
   "execution_count": 12,
   "id": "893f7d53",
   "metadata": {},
   "outputs": [
    {
     "name": "stdout",
     "output_type": "stream",
     "text": [
      "<class 'pandas.core.frame.DataFrame'>\n",
      "RangeIndex: 50088 entries, 0 to 50087\n",
      "Data columns (total 10 columns):\n",
      " #   Column                    Non-Null Count  Dtype \n",
      "---  ------                    --------------  ----- \n",
      " 0   Subject Age Group         50088 non-null  int64 \n",
      " 1   Weapon Type               50088 non-null  object\n",
      " 2   Officer YOB               50088 non-null  int64 \n",
      " 3   Subject Perceived Race    50088 non-null  object\n",
      " 4   Reported Date             50088 non-null  object\n",
      " 5   Arrest                    50088 non-null  uint8 \n",
      " 6   Citation / Infraction     50088 non-null  uint8 \n",
      " 7   Field Contact             50088 non-null  uint8 \n",
      " 8   Offense Report            50088 non-null  uint8 \n",
      " 9   Referred for Prosecution  50088 non-null  uint8 \n",
      "dtypes: int64(2), object(3), uint8(5)\n",
      "memory usage: 2.1+ MB\n"
     ]
    }
   ],
   "source": [
    "terry.info()"
   ]
  },
  {
   "cell_type": "markdown",
   "id": "b5d0a1d6",
   "metadata": {},
   "source": [
    "## Column Reported Date \n",
    "\n",
    "#### This column is a date and I just want to know if something was reported on that date so I can see if there is a correlation between months and weapons being present on the subject. "
   ]
  },
  {
   "cell_type": "code",
   "execution_count": 13,
   "id": "76c82f3a",
   "metadata": {},
   "outputs": [],
   "source": [
    "Jan = terry[pd.to_datetime(terry['Reported Date']).dt.month ==1]\n",
    "Feb = terry[pd.to_datetime(terry['Reported Date']).dt.month ==2]\n",
    "Mar = terry[pd.to_datetime(terry['Reported Date']).dt.month ==3]\n",
    "Apr = terry[pd.to_datetime(terry['Reported Date']).dt.month ==4]\n",
    "May = terry[pd.to_datetime(terry['Reported Date']).dt.month ==5]\n",
    "Jun = terry[pd.to_datetime(terry['Reported Date']).dt.month ==6]\n",
    "Jul = terry[pd.to_datetime(terry['Reported Date']).dt.month ==7]\n",
    "Aug = terry[pd.to_datetime(terry['Reported Date']).dt.month ==8]\n",
    "Sep = terry[pd.to_datetime(terry['Reported Date']).dt.month ==9]\n",
    "Oct = terry[pd.to_datetime(terry['Reported Date']).dt.month ==10]\n",
    "Nov = terry[pd.to_datetime(terry['Reported Date']).dt.month ==11]\n",
    "Dec = terry[pd.to_datetime(terry['Reported Date']).dt.month ==12]"
   ]
  },
  {
   "cell_type": "code",
   "execution_count": 14,
   "id": "4779439b",
   "metadata": {},
   "outputs": [],
   "source": [
    "Months = (Jan['Reported Date'],\n",
    "Feb['Reported Date'],\n",
    "Mar['Reported Date'],\n",
    "Apr['Reported Date'],\n",
    "May['Reported Date'],\n",
    "Jun['Reported Date'],\n",
    "Jul['Reported Date'],\n",
    "Aug['Reported Date'],\n",
    "Sep['Reported Date'],\n",
    "Oct['Reported Date'],\n",
    "Nov['Reported Date'],\n",
    "Dec['Reported Date'])\n",
    "Report_Date = pd.DataFrame(columns = Months)\n",
    "#terry = pd.concat([terry,Jan['Reported Date'],Feb['Reported Date'],Mar['Reported Date'],Apr['Reported Date'],May['Reported Date'],\n",
    "#Jun['Reported Date'],Jul['Reported Date'],Aug['Reported Date'],Sep['Reported Date'],Oct['Reported Date'],Nov['Reported Date'],\n",
    "#Dec['Reported Date']], axis = 1)"
   ]
  },
  {
   "cell_type": "code",
   "execution_count": 15,
   "id": "20f577a6",
   "metadata": {},
   "outputs": [],
   "source": [
    "Mar= Mar['Reported Date']\n",
    "Apr= Apr['Reported Date']\n",
    "May= May['Reported Date']\n",
    "Jun= Jun['Reported Date']\n",
    "Jul= Jul['Reported Date']\n",
    "Aug= Aug['Reported Date']\n",
    "Sep= Sep['Reported Date']\n",
    "Oct= Oct['Reported Date']\n",
    "Nov= Nov['Reported Date']\n",
    "Dec= Dec['Reported Date']"
   ]
  },
  {
   "cell_type": "code",
   "execution_count": 16,
   "id": "2e87a025",
   "metadata": {},
   "outputs": [],
   "source": [
    "le= LabelEncoder()"
   ]
  },
  {
   "cell_type": "code",
   "execution_count": 17,
   "id": "7c15494e",
   "metadata": {},
   "outputs": [],
   "source": [
    "think = pd.DataFrame(data= Months).transpose()\n",
    "think.columns = ['Jan', 'Feb','Mar','Apr','May','Jun','Jul', 'Aug','Sep','Oct','Nov','Dec']\n",
    "Reported =think.le(other = 'DataFrame', axis = 1)\n",
    "\n",
    "terry = pd.concat([terry, Reported], axis = 1)"
   ]
  },
  {
   "cell_type": "code",
   "execution_count": 18,
   "id": "b9f9587a",
   "metadata": {},
   "outputs": [],
   "source": [
    "terry = terry.drop(columns = ['Reported Date'])"
   ]
  },
  {
   "cell_type": "code",
   "execution_count": 19,
   "id": "a03af7bb",
   "metadata": {},
   "outputs": [
    {
     "data": {
      "text/plain": [
       "False    45881\n",
       "True      4207\n",
       "Name: Jan, dtype: int64"
      ]
     },
     "execution_count": 19,
     "metadata": {},
     "output_type": "execute_result"
    }
   ],
   "source": [
    "terry['Jan'].value_counts()"
   ]
  },
  {
   "cell_type": "code",
   "execution_count": 20,
   "id": "f8c4ed7e",
   "metadata": {},
   "outputs": [
    {
     "data": {
      "text/plain": [
       "False    46678\n",
       "True      3410\n",
       "Name: Feb, dtype: int64"
      ]
     },
     "execution_count": 20,
     "metadata": {},
     "output_type": "execute_result"
    }
   ],
   "source": [
    "terry['Feb'].value_counts()"
   ]
  },
  {
   "cell_type": "code",
   "execution_count": 21,
   "id": "8720d678",
   "metadata": {},
   "outputs": [
    {
     "data": {
      "text/plain": [
       "False    46156\n",
       "True      3932\n",
       "Name: Mar, dtype: int64"
      ]
     },
     "execution_count": 21,
     "metadata": {},
     "output_type": "execute_result"
    }
   ],
   "source": [
    "terry['Mar'].value_counts()"
   ]
  },
  {
   "cell_type": "code",
   "execution_count": 22,
   "id": "61847f7d",
   "metadata": {},
   "outputs": [
    {
     "data": {
      "text/plain": [
       "False    45939\n",
       "True      4149\n",
       "Name: Apr, dtype: int64"
      ]
     },
     "execution_count": 22,
     "metadata": {},
     "output_type": "execute_result"
    }
   ],
   "source": [
    "terry['Apr'].value_counts()"
   ]
  },
  {
   "cell_type": "code",
   "execution_count": 23,
   "id": "d3df8908",
   "metadata": {},
   "outputs": [
    {
     "data": {
      "text/plain": [
       "False    45048\n",
       "True      5040\n",
       "Name: May, dtype: int64"
      ]
     },
     "execution_count": 23,
     "metadata": {},
     "output_type": "execute_result"
    }
   ],
   "source": [
    "terry['May'].value_counts()"
   ]
  },
  {
   "cell_type": "code",
   "execution_count": 24,
   "id": "78815a0a",
   "metadata": {},
   "outputs": [
    {
     "data": {
      "text/plain": [
       "False    45531\n",
       "True      4557\n",
       "Name: Jun, dtype: int64"
      ]
     },
     "execution_count": 24,
     "metadata": {},
     "output_type": "execute_result"
    }
   ],
   "source": [
    "terry['Jun'].value_counts()"
   ]
  },
  {
   "cell_type": "code",
   "execution_count": 25,
   "id": "c4c5c106",
   "metadata": {},
   "outputs": [
    {
     "data": {
      "text/plain": [
       "False    45519\n",
       "True      4569\n",
       "Name: Jul, dtype: int64"
      ]
     },
     "execution_count": 25,
     "metadata": {},
     "output_type": "execute_result"
    }
   ],
   "source": [
    "terry['Jul'].value_counts()"
   ]
  },
  {
   "cell_type": "code",
   "execution_count": 26,
   "id": "82a50c21",
   "metadata": {},
   "outputs": [
    {
     "data": {
      "text/plain": [
       "False    45743\n",
       "True      4345\n",
       "Name: Aug, dtype: int64"
      ]
     },
     "execution_count": 26,
     "metadata": {},
     "output_type": "execute_result"
    }
   ],
   "source": [
    "terry['Aug'].value_counts()"
   ]
  },
  {
   "cell_type": "code",
   "execution_count": 27,
   "id": "c1b43f18",
   "metadata": {},
   "outputs": [
    {
     "data": {
      "text/plain": [
       "False    46109\n",
       "True      3979\n",
       "Name: Sep, dtype: int64"
      ]
     },
     "execution_count": 27,
     "metadata": {},
     "output_type": "execute_result"
    }
   ],
   "source": [
    "terry['Sep'].value_counts()"
   ]
  },
  {
   "cell_type": "code",
   "execution_count": 28,
   "id": "c0cb9487",
   "metadata": {},
   "outputs": [
    {
     "data": {
      "text/plain": [
       "False    45731\n",
       "True      4357\n",
       "Name: Oct, dtype: int64"
      ]
     },
     "execution_count": 28,
     "metadata": {},
     "output_type": "execute_result"
    }
   ],
   "source": [
    "terry['Oct'].value_counts()"
   ]
  },
  {
   "cell_type": "code",
   "execution_count": 29,
   "id": "e0f69774",
   "metadata": {},
   "outputs": [
    {
     "data": {
      "text/plain": [
       "False    46173\n",
       "True      3915\n",
       "Name: Nov, dtype: int64"
      ]
     },
     "execution_count": 29,
     "metadata": {},
     "output_type": "execute_result"
    }
   ],
   "source": [
    "terry['Nov'].value_counts()"
   ]
  },
  {
   "cell_type": "code",
   "execution_count": 30,
   "id": "e8414e5b",
   "metadata": {},
   "outputs": [
    {
     "data": {
      "text/plain": [
       "3628"
      ]
     },
     "execution_count": 30,
     "metadata": {},
     "output_type": "execute_result"
    }
   ],
   "source": [
    "terry['Dec'].sum()"
   ]
  },
  {
   "cell_type": "code",
   "execution_count": 31,
   "id": "6aef56c6",
   "metadata": {},
   "outputs": [
    {
     "data": {
      "text/plain": [
       "3628"
      ]
     },
     "execution_count": 31,
     "metadata": {},
     "output_type": "execute_result"
    }
   ],
   "source": [
    "December = terry['Dec'].sum()\n",
    "December.astype(int)\n",
    "December"
   ]
  },
  {
   "cell_type": "code",
   "execution_count": 32,
   "id": "e89fe837",
   "metadata": {},
   "outputs": [
    {
     "name": "stderr",
     "output_type": "stream",
     "text": [
      "C:\\Users\\metropolitanparkapts\\anaconda3\\lib\\site-packages\\seaborn\\_decorators.py:36: FutureWarning: Pass the following variable as a keyword arg: x. From version 0.12, the only valid positional argument will be `data`, and passing other arguments without an explicit keyword will result in an error or misinterpretation.\n",
      "  warnings.warn(\n"
     ]
    },
    {
     "data": {
      "text/plain": [
       "[Text(0.5, 1.0, 'Arress Over Past Year')]"
      ]
     },
     "execution_count": 32,
     "metadata": {},
     "output_type": "execute_result"
    },
    {
     "data": {
      "image/png": "[encoded data removed]",
      "text/plain": [
       "<Figure size 576x396 with 1 Axes>"
      ]
     },
     "metadata": {},
     "output_type": "display_data"
    }
   ],
   "source": [
    "sns.countplot(terry['Arrest'], color = 'b').set(title = 'Arress Over Past Year')"
   ]
  },
  {
   "cell_type": "markdown",
   "id": "4fe88f92",
   "metadata": {},
   "source": [
    "### 50,088, Terry stops done last year 4174 a month at a 25 percent arrest rate that is 1044 people going to jail each month Based upon reasonabl suspicion "
   ]
  },
  {
   "cell_type": "markdown",
   "id": "35e30ad9",
   "metadata": {},
   "source": [
    "## Column Weapon Type\n",
    "\n",
    "#### I want to see what weapons are present the most as this column has a lot of repeat information we have to combine and replace prior to one hot encoding"
   ]
  },
  {
   "cell_type": "code",
   "execution_count": 33,
   "id": "0e6dd5c3",
   "metadata": {},
   "outputs": [],
   "source": [
    "terry['Weapon Type'].replace(to_replace = '-', value = 'None', inplace = True)\n",
    "terry['Weapon Type'].replace(to_replace = 'None/Not Applicable', value = 'None', inplace = True)\n",
    "terry['Weapon Type'].replace(to_replace = 'Firearm Other', value = 'Firearm', inplace = True)\n",
    "terry['Weapon Type'].replace(to_replace = 'Blackjack', value = 'Club, Blackjack, Brass Knuckles', inplace = True)\n",
    "terry['Weapon Type'].replace(to_replace = 'Club', value = 'Club, Blackjack, Brass Knuckles', inplace = True)\n",
    "terry['Weapon Type'].replace(to_replace = 'Brass Knuckles', value = 'Club, Blackjack, Brass Knuckles', inplace = True)\n",
    "terry['Weapon Type'].replace(to_replace = 'Other Firearm', value = 'Firearm', inplace = True)\n",
    "terry['Weapon Type'].replace(to_replace = 'Firearm (unk type)', value = 'Firearm', inplace = True)\n",
    "terry['Weapon Type'].replace(to_replace = 'Automatic Handgun', value = 'Handgun', inplace = True)\n",
    "terry['Weapon Type'].replace(to_replace = 'Other Firearm', value = 'Firearm', inplace = True)"
   ]
  },
  {
   "cell_type": "markdown",
   "id": "c25e925b",
   "metadata": {
    "scrolled": true
   },
   "source": [
    "#One Hot encoding Weapon Type \n",
    "ohe = OneHotEncoder(categories='auto', sparse = False, handle_unknown = 'ignore')\n",
    "Weapons = ohe.fit_transform(terry[['Weapon Type']])\n",
    "ohe.categories_\n",
    "Weapons_Used= pd.DataFrame(Weapons, columns =ohe.categories_)\n",
    "terry = pd.concat([terry,Weapons_Used], axis = 1)\n",
    "terry.drop(columns = ['Weapon Type'], inplace = True)"
   ]
  },
  {
   "cell_type": "code",
   "execution_count": 34,
   "id": "b60b920a",
   "metadata": {},
   "outputs": [
    {
     "data": {
      "text/html": [
       "<div>\n",
       "<style scoped>\n",
       "    .dataframe tbody tr th:only-of-type {\n",
       "        vertical-align: middle;\n",
       "    }\n",
       "\n",
       "    .dataframe tbody tr th {\n",
       "        vertical-align: top;\n",
       "    }\n",
       "\n",
       "    .dataframe thead th {\n",
       "        text-align: right;\n",
       "    }\n",
       "</style>\n",
       "<table border=\"1\" class=\"dataframe\">\n",
       "  <thead>\n",
       "    <tr style=\"text-align: right;\">\n",
       "      <th></th>\n",
       "      <th>Subject Age Group</th>\n",
       "      <th>Officer YOB</th>\n",
       "      <th>Subject Perceived Race</th>\n",
       "      <th>Arrest</th>\n",
       "      <th>Citation / Infraction</th>\n",
       "      <th>Field Contact</th>\n",
       "      <th>Offense Report</th>\n",
       "      <th>Referred for Prosecution</th>\n",
       "      <th>Jan</th>\n",
       "      <th>Feb</th>\n",
       "      <th>...</th>\n",
       "      <th>Firearm</th>\n",
       "      <th>Handgun</th>\n",
       "      <th>Knife/Cutting/Stabbing Instrument</th>\n",
       "      <th>Lethal Cutting Instrument</th>\n",
       "      <th>Mace/Pepper Spray</th>\n",
       "      <th>None</th>\n",
       "      <th>Personal Weapons (hands, feet, etc.)</th>\n",
       "      <th>Rifle</th>\n",
       "      <th>Shotgun</th>\n",
       "      <th>Taser/Stun Gun</th>\n",
       "    </tr>\n",
       "  </thead>\n",
       "  <tbody>\n",
       "    <tr>\n",
       "      <th>0</th>\n",
       "      <td>3</td>\n",
       "      <td>1965</td>\n",
       "      <td>-</td>\n",
       "      <td>0</td>\n",
       "      <td>0</td>\n",
       "      <td>1</td>\n",
       "      <td>0</td>\n",
       "      <td>0</td>\n",
       "      <td>False</td>\n",
       "      <td>False</td>\n",
       "      <td>...</td>\n",
       "      <td>0</td>\n",
       "      <td>0</td>\n",
       "      <td>0</td>\n",
       "      <td>0</td>\n",
       "      <td>0</td>\n",
       "      <td>1</td>\n",
       "      <td>0</td>\n",
       "      <td>0</td>\n",
       "      <td>0</td>\n",
       "      <td>0</td>\n",
       "    </tr>\n",
       "    <tr>\n",
       "      <th>1</th>\n",
       "      <td>3</td>\n",
       "      <td>1961</td>\n",
       "      <td>White</td>\n",
       "      <td>0</td>\n",
       "      <td>0</td>\n",
       "      <td>1</td>\n",
       "      <td>0</td>\n",
       "      <td>0</td>\n",
       "      <td>False</td>\n",
       "      <td>False</td>\n",
       "      <td>...</td>\n",
       "      <td>0</td>\n",
       "      <td>0</td>\n",
       "      <td>0</td>\n",
       "      <td>0</td>\n",
       "      <td>0</td>\n",
       "      <td>1</td>\n",
       "      <td>0</td>\n",
       "      <td>0</td>\n",
       "      <td>0</td>\n",
       "      <td>0</td>\n",
       "    </tr>\n",
       "    <tr>\n",
       "      <th>2</th>\n",
       "      <td>3</td>\n",
       "      <td>1977</td>\n",
       "      <td>Black or African American</td>\n",
       "      <td>0</td>\n",
       "      <td>0</td>\n",
       "      <td>1</td>\n",
       "      <td>0</td>\n",
       "      <td>0</td>\n",
       "      <td>False</td>\n",
       "      <td>False</td>\n",
       "      <td>...</td>\n",
       "      <td>0</td>\n",
       "      <td>0</td>\n",
       "      <td>0</td>\n",
       "      <td>0</td>\n",
       "      <td>0</td>\n",
       "      <td>1</td>\n",
       "      <td>0</td>\n",
       "      <td>0</td>\n",
       "      <td>0</td>\n",
       "      <td>0</td>\n",
       "    </tr>\n",
       "    <tr>\n",
       "      <th>3</th>\n",
       "      <td>3</td>\n",
       "      <td>1985</td>\n",
       "      <td>Other</td>\n",
       "      <td>0</td>\n",
       "      <td>0</td>\n",
       "      <td>1</td>\n",
       "      <td>0</td>\n",
       "      <td>0</td>\n",
       "      <td>False</td>\n",
       "      <td>False</td>\n",
       "      <td>...</td>\n",
       "      <td>0</td>\n",
       "      <td>0</td>\n",
       "      <td>0</td>\n",
       "      <td>0</td>\n",
       "      <td>0</td>\n",
       "      <td>1</td>\n",
       "      <td>0</td>\n",
       "      <td>0</td>\n",
       "      <td>0</td>\n",
       "      <td>0</td>\n",
       "    </tr>\n",
       "    <tr>\n",
       "      <th>4</th>\n",
       "      <td>3</td>\n",
       "      <td>1986</td>\n",
       "      <td>White</td>\n",
       "      <td>0</td>\n",
       "      <td>0</td>\n",
       "      <td>1</td>\n",
       "      <td>0</td>\n",
       "      <td>0</td>\n",
       "      <td>False</td>\n",
       "      <td>False</td>\n",
       "      <td>...</td>\n",
       "      <td>0</td>\n",
       "      <td>0</td>\n",
       "      <td>0</td>\n",
       "      <td>0</td>\n",
       "      <td>0</td>\n",
       "      <td>1</td>\n",
       "      <td>0</td>\n",
       "      <td>0</td>\n",
       "      <td>0</td>\n",
       "      <td>0</td>\n",
       "    </tr>\n",
       "    <tr>\n",
       "      <th>...</th>\n",
       "      <td>...</td>\n",
       "      <td>...</td>\n",
       "      <td>...</td>\n",
       "      <td>...</td>\n",
       "      <td>...</td>\n",
       "      <td>...</td>\n",
       "      <td>...</td>\n",
       "      <td>...</td>\n",
       "      <td>...</td>\n",
       "      <td>...</td>\n",
       "      <td>...</td>\n",
       "      <td>...</td>\n",
       "      <td>...</td>\n",
       "      <td>...</td>\n",
       "      <td>...</td>\n",
       "      <td>...</td>\n",
       "      <td>...</td>\n",
       "      <td>...</td>\n",
       "      <td>...</td>\n",
       "      <td>...</td>\n",
       "      <td>...</td>\n",
       "    </tr>\n",
       "    <tr>\n",
       "      <th>50083</th>\n",
       "      <td>6</td>\n",
       "      <td>1989</td>\n",
       "      <td>Black or African American</td>\n",
       "      <td>0</td>\n",
       "      <td>0</td>\n",
       "      <td>1</td>\n",
       "      <td>0</td>\n",
       "      <td>0</td>\n",
       "      <td>False</td>\n",
       "      <td>False</td>\n",
       "      <td>...</td>\n",
       "      <td>0</td>\n",
       "      <td>0</td>\n",
       "      <td>1</td>\n",
       "      <td>0</td>\n",
       "      <td>0</td>\n",
       "      <td>0</td>\n",
       "      <td>0</td>\n",
       "      <td>0</td>\n",
       "      <td>0</td>\n",
       "      <td>0</td>\n",
       "    </tr>\n",
       "    <tr>\n",
       "      <th>50084</th>\n",
       "      <td>6</td>\n",
       "      <td>1973</td>\n",
       "      <td>Black or African American</td>\n",
       "      <td>0</td>\n",
       "      <td>0</td>\n",
       "      <td>1</td>\n",
       "      <td>0</td>\n",
       "      <td>0</td>\n",
       "      <td>False</td>\n",
       "      <td>False</td>\n",
       "      <td>...</td>\n",
       "      <td>0</td>\n",
       "      <td>0</td>\n",
       "      <td>0</td>\n",
       "      <td>0</td>\n",
       "      <td>0</td>\n",
       "      <td>1</td>\n",
       "      <td>0</td>\n",
       "      <td>0</td>\n",
       "      <td>0</td>\n",
       "      <td>0</td>\n",
       "    </tr>\n",
       "    <tr>\n",
       "      <th>50085</th>\n",
       "      <td>6</td>\n",
       "      <td>1986</td>\n",
       "      <td>Black or African American</td>\n",
       "      <td>0</td>\n",
       "      <td>0</td>\n",
       "      <td>1</td>\n",
       "      <td>0</td>\n",
       "      <td>0</td>\n",
       "      <td>False</td>\n",
       "      <td>False</td>\n",
       "      <td>...</td>\n",
       "      <td>0</td>\n",
       "      <td>0</td>\n",
       "      <td>0</td>\n",
       "      <td>0</td>\n",
       "      <td>0</td>\n",
       "      <td>1</td>\n",
       "      <td>0</td>\n",
       "      <td>0</td>\n",
       "      <td>0</td>\n",
       "      <td>0</td>\n",
       "    </tr>\n",
       "    <tr>\n",
       "      <th>50086</th>\n",
       "      <td>6</td>\n",
       "      <td>1976</td>\n",
       "      <td>Black or African American</td>\n",
       "      <td>0</td>\n",
       "      <td>0</td>\n",
       "      <td>1</td>\n",
       "      <td>0</td>\n",
       "      <td>0</td>\n",
       "      <td>False</td>\n",
       "      <td>False</td>\n",
       "      <td>...</td>\n",
       "      <td>0</td>\n",
       "      <td>0</td>\n",
       "      <td>0</td>\n",
       "      <td>0</td>\n",
       "      <td>0</td>\n",
       "      <td>1</td>\n",
       "      <td>0</td>\n",
       "      <td>0</td>\n",
       "      <td>0</td>\n",
       "      <td>0</td>\n",
       "    </tr>\n",
       "    <tr>\n",
       "      <th>50087</th>\n",
       "      <td>6</td>\n",
       "      <td>1992</td>\n",
       "      <td>Unknown</td>\n",
       "      <td>1</td>\n",
       "      <td>0</td>\n",
       "      <td>0</td>\n",
       "      <td>0</td>\n",
       "      <td>0</td>\n",
       "      <td>True</td>\n",
       "      <td>False</td>\n",
       "      <td>...</td>\n",
       "      <td>0</td>\n",
       "      <td>0</td>\n",
       "      <td>1</td>\n",
       "      <td>0</td>\n",
       "      <td>0</td>\n",
       "      <td>0</td>\n",
       "      <td>0</td>\n",
       "      <td>0</td>\n",
       "      <td>0</td>\n",
       "      <td>0</td>\n",
       "    </tr>\n",
       "  </tbody>\n",
       "</table>\n",
       "<p>50088 rows × 33 columns</p>\n",
       "</div>"
      ],
      "text/plain": [
       "       Subject Age Group  Officer YOB     Subject Perceived Race  Arrest  \\\n",
       "0                      3         1965                          -       0   \n",
       "1                      3         1961                      White       0   \n",
       "2                      3         1977  Black or African American       0   \n",
       "3                      3         1985                      Other       0   \n",
       "4                      3         1986                      White       0   \n",
       "...                  ...          ...                        ...     ...   \n",
       "50083                  6         1989  Black or African American       0   \n",
       "50084                  6         1973  Black or African American       0   \n",
       "50085                  6         1986  Black or African American       0   \n",
       "50086                  6         1976  Black or African American       0   \n",
       "50087                  6         1992                    Unknown       1   \n",
       "\n",
       "       Citation / Infraction  Field Contact  Offense Report  \\\n",
       "0                          0              1               0   \n",
       "1                          0              1               0   \n",
       "2                          0              1               0   \n",
       "3                          0              1               0   \n",
       "4                          0              1               0   \n",
       "...                      ...            ...             ...   \n",
       "50083                      0              1               0   \n",
       "50084                      0              1               0   \n",
       "50085                      0              1               0   \n",
       "50086                      0              1               0   \n",
       "50087                      0              0               0   \n",
       "\n",
       "       Referred for Prosecution    Jan    Feb  ...  Firearm  Handgun  \\\n",
       "0                             0  False  False  ...        0        0   \n",
       "1                             0  False  False  ...        0        0   \n",
       "2                             0  False  False  ...        0        0   \n",
       "3                             0  False  False  ...        0        0   \n",
       "4                             0  False  False  ...        0        0   \n",
       "...                         ...    ...    ...  ...      ...      ...   \n",
       "50083                         0  False  False  ...        0        0   \n",
       "50084                         0  False  False  ...        0        0   \n",
       "50085                         0  False  False  ...        0        0   \n",
       "50086                         0  False  False  ...        0        0   \n",
       "50087                         0   True  False  ...        0        0   \n",
       "\n",
       "       Knife/Cutting/Stabbing Instrument  Lethal Cutting Instrument  \\\n",
       "0                                      0                          0   \n",
       "1                                      0                          0   \n",
       "2                                      0                          0   \n",
       "3                                      0                          0   \n",
       "4                                      0                          0   \n",
       "...                                  ...                        ...   \n",
       "50083                                  1                          0   \n",
       "50084                                  0                          0   \n",
       "50085                                  0                          0   \n",
       "50086                                  0                          0   \n",
       "50087                                  1                          0   \n",
       "\n",
       "       Mace/Pepper Spray  None  Personal Weapons (hands, feet, etc.)  Rifle  \\\n",
       "0                      0     1                                     0      0   \n",
       "1                      0     1                                     0      0   \n",
       "2                      0     1                                     0      0   \n",
       "3                      0     1                                     0      0   \n",
       "4                      0     1                                     0      0   \n",
       "...                  ...   ...                                   ...    ...   \n",
       "50083                  0     0                                     0      0   \n",
       "50084                  0     1                                     0      0   \n",
       "50085                  0     1                                     0      0   \n",
       "50086                  0     1                                     0      0   \n",
       "50087                  0     0                                     0      0   \n",
       "\n",
       "       Shotgun  Taser/Stun Gun  \n",
       "0            0               0  \n",
       "1            0               0  \n",
       "2            0               0  \n",
       "3            0               0  \n",
       "4            0               0  \n",
       "...        ...             ...  \n",
       "50083        0               0  \n",
       "50084        0               0  \n",
       "50085        0               0  \n",
       "50086        0               0  \n",
       "50087        0               0  \n",
       "\n",
       "[50088 rows x 33 columns]"
      ]
     },
     "execution_count": 34,
     "metadata": {},
     "output_type": "execute_result"
    }
   ],
   "source": [
    "Weapons = pd.get_dummies(terry['Weapon Type'])\n",
    "terry = pd.concat([terry, Weapons], axis = 1)\n",
    "terry.drop(columns = ['Weapon Type'])"
   ]
  },
  {
   "cell_type": "code",
   "execution_count": 35,
   "id": "8995f2e6",
   "metadata": {},
   "outputs": [],
   "source": [
    "terry = terry.rename({'None': 'No_Weapons'}, axis=1)  # new method"
   ]
  },
  {
   "cell_type": "code",
   "execution_count": 36,
   "id": "defdb880",
   "metadata": {},
   "outputs": [
    {
     "data": {
      "text/plain": [
       "Index(['Subject Age Group', 'Weapon Type', 'Officer YOB',\n",
       "       'Subject Perceived Race', 'Arrest', 'Citation / Infraction',\n",
       "       'Field Contact', 'Offense Report', 'Referred for Prosecution', 'Jan',\n",
       "       'Feb', 'Mar', 'Apr', 'May', 'Jun', 'Jul', 'Aug', 'Sep', 'Oct', 'Nov',\n",
       "       'Dec', 'Blunt Object/Striking Implement',\n",
       "       'Club, Blackjack, Brass Knuckles', 'Fire/Incendiary Device', 'Firearm',\n",
       "       'Handgun', 'Knife/Cutting/Stabbing Instrument',\n",
       "       'Lethal Cutting Instrument', 'Mace/Pepper Spray', 'No_Weapons',\n",
       "       'Personal Weapons (hands, feet, etc.)', 'Rifle', 'Shotgun',\n",
       "       'Taser/Stun Gun'],\n",
       "      dtype='object')"
      ]
     },
     "execution_count": 36,
     "metadata": {},
     "output_type": "execute_result"
    }
   ],
   "source": [
    "terry.columns"
   ]
  },
  {
   "cell_type": "markdown",
   "id": "24651333",
   "metadata": {},
   "source": [
    "## Column Subject Percieved Race\n",
    "\n",
    "#### Good to know if there is a certain race type when approaching if it is more common that they have a weapon present\n"
   ]
  },
  {
   "cell_type": "code",
   "execution_count": 37,
   "id": "2dec41ee",
   "metadata": {},
   "outputs": [
    {
     "data": {
      "text/plain": [
       "White                                        24435\n",
       "Black or African American                    14957\n",
       "Unknown                                       3071\n",
       "-                                             1805\n",
       "Hispanic                                      1684\n",
       "Asian                                         1665\n",
       "American Indian or Alaska Native              1432\n",
       "Multi-Racial                                   809\n",
       "Other                                          152\n",
       "Native Hawaiian or Other Pacific Islander       78\n",
       "Name: Subject Perceived Race, dtype: int64"
      ]
     },
     "execution_count": 37,
     "metadata": {},
     "output_type": "execute_result"
    }
   ],
   "source": [
    "terry['Subject Perceived Race'].value_counts()"
   ]
  },
  {
   "cell_type": "code",
   "execution_count": 38,
   "id": "6c454bf6",
   "metadata": {},
   "outputs": [],
   "source": [
    "terry['Subject Perceived Race'].replace(to_replace = '-', value = 'Unknown', inplace = True)"
   ]
  },
  {
   "cell_type": "code",
   "execution_count": 39,
   "id": "6d7a0294",
   "metadata": {},
   "outputs": [
    {
     "data": {
      "text/plain": [
       "White                                        24435\n",
       "Black or African American                    14957\n",
       "Unknown                                       4876\n",
       "Hispanic                                      1684\n",
       "Asian                                         1665\n",
       "American Indian or Alaska Native              1432\n",
       "Multi-Racial                                   809\n",
       "Other                                          152\n",
       "Native Hawaiian or Other Pacific Islander       78\n",
       "Name: Subject Perceived Race, dtype: int64"
      ]
     },
     "execution_count": 39,
     "metadata": {},
     "output_type": "execute_result"
    }
   ],
   "source": [
    "terry['Subject Perceived Race'].value_counts()"
   ]
  },
  {
   "cell_type": "markdown",
   "id": "e4a2eb5b",
   "metadata": {},
   "source": [
    "## Modeling \n",
    "\n",
    "#### Beginning Our modeling buy Identifying the target. "
   ]
  },
  {
   "cell_type": "code",
   "execution_count": 40,
   "id": "440ffbbe",
   "metadata": {},
   "outputs": [],
   "source": [
    "X = terry.drop(['Arrest'], axis = 1)\n",
    "y = terry['Arrest']"
   ]
  },
  {
   "cell_type": "code",
   "execution_count": 41,
   "id": "e1a24879",
   "metadata": {},
   "outputs": [
    {
     "data": {
      "text/plain": [
       "0    0.751857\n",
       "1    0.248143\n",
       "Name: Arrest, dtype: float64"
      ]
     },
     "execution_count": 41,
     "metadata": {},
     "output_type": "execute_result"
    }
   ],
   "source": [
    "y.value_counts(normalize = True)"
   ]
  },
  {
   "cell_type": "markdown",
   "id": "2894d036",
   "metadata": {},
   "source": [
    "Noticed the Dash as an age group replaced it with the MODE of the column to better help our model. As this column is also an object I will be mapping each range of ages to a number. "
   ]
  },
  {
   "cell_type": "code",
   "execution_count": 42,
   "id": "8b4d253e",
   "metadata": {},
   "outputs": [],
   "source": [
    "X_train, X_test, y_train, y_test = train_test_split(X, y, test_size=0.20, random_state=33)"
   ]
  },
  {
   "cell_type": "code",
   "execution_count": 43,
   "id": "241f9fe6",
   "metadata": {},
   "outputs": [],
   "source": [
    "ohe = OneHotEncoder(handle_unknown='ignore', sparse=False)"
   ]
  },
  {
   "cell_type": "code",
   "execution_count": 44,
   "id": "fd435393",
   "metadata": {},
   "outputs": [
    {
     "name": "stderr",
     "output_type": "stream",
     "text": [
      "C:\\Users\\metropolitanparkapts\\anaconda3\\lib\\site-packages\\sklearn\\utils\\deprecation.py:87: FutureWarning: Function get_feature_names is deprecated; get_feature_names is deprecated in 1.0 and will be removed in 1.2. Please use get_feature_names_out instead.\n",
      "  warnings.warn(msg, category=FutureWarning)\n"
     ]
    }
   ],
   "source": [
    "X_train_cat = X_train.select_dtypes('object')\n",
    "dummy = ohe.fit_transform(X_train_cat)\n",
    "dummy_df = pd.DataFrame(dummy, columns=ohe.get_feature_names(), index=X_train_cat.index)"
   ]
  },
  {
   "cell_type": "code",
   "execution_count": 45,
   "id": "278be9e9",
   "metadata": {},
   "outputs": [],
   "source": [
    "X_train_nums = X_train.select_dtypes(include=['float64', 'int64'])\n",
    "\n",
    "ss = StandardScaler()\n",
    "scaled = ss.fit_transform(X_train_nums)\n",
    "\n",
    "\n",
    "scaled_df = pd.DataFrame(scaled, index=X_train_nums.index)\n",
    "scaled_df.columns = X_train_nums.columns"
   ]
  },
  {
   "cell_type": "code",
   "execution_count": 46,
   "id": "66d7c54e",
   "metadata": {},
   "outputs": [
    {
     "data": {
      "text/html": [
       "<div>\n",
       "<style scoped>\n",
       "    .dataframe tbody tr th:only-of-type {\n",
       "        vertical-align: middle;\n",
       "    }\n",
       "\n",
       "    .dataframe tbody tr th {\n",
       "        vertical-align: top;\n",
       "    }\n",
       "\n",
       "    .dataframe thead th {\n",
       "        text-align: right;\n",
       "    }\n",
       "</style>\n",
       "<table border=\"1\" class=\"dataframe\">\n",
       "  <thead>\n",
       "    <tr style=\"text-align: right;\">\n",
       "      <th></th>\n",
       "      <th>Subject Age Group</th>\n",
       "      <th>Officer YOB</th>\n",
       "      <th>x0_Blunt Object/Striking Implement</th>\n",
       "      <th>x0_Club, Blackjack, Brass Knuckles</th>\n",
       "      <th>x0_Fire/Incendiary Device</th>\n",
       "      <th>x0_Firearm</th>\n",
       "      <th>x0_Handgun</th>\n",
       "      <th>x0_Knife/Cutting/Stabbing Instrument</th>\n",
       "      <th>x0_Lethal Cutting Instrument</th>\n",
       "      <th>x0_Mace/Pepper Spray</th>\n",
       "      <th>...</th>\n",
       "      <th>x0_Taser/Stun Gun</th>\n",
       "      <th>x1_American Indian or Alaska Native</th>\n",
       "      <th>x1_Asian</th>\n",
       "      <th>x1_Black or African American</th>\n",
       "      <th>x1_Hispanic</th>\n",
       "      <th>x1_Multi-Racial</th>\n",
       "      <th>x1_Native Hawaiian or Other Pacific Islander</th>\n",
       "      <th>x1_Other</th>\n",
       "      <th>x1_Unknown</th>\n",
       "      <th>x1_White</th>\n",
       "    </tr>\n",
       "  </thead>\n",
       "  <tbody>\n",
       "    <tr>\n",
       "      <th>47969</th>\n",
       "      <td>1.387282</td>\n",
       "      <td>0.418138</td>\n",
       "      <td>0.0</td>\n",
       "      <td>0.0</td>\n",
       "      <td>0.0</td>\n",
       "      <td>0.0</td>\n",
       "      <td>0.0</td>\n",
       "      <td>0.0</td>\n",
       "      <td>0.0</td>\n",
       "      <td>0.0</td>\n",
       "      <td>...</td>\n",
       "      <td>0.0</td>\n",
       "      <td>0.0</td>\n",
       "      <td>0.0</td>\n",
       "      <td>0.0</td>\n",
       "      <td>0.0</td>\n",
       "      <td>0.0</td>\n",
       "      <td>0.0</td>\n",
       "      <td>0.0</td>\n",
       "      <td>0.0</td>\n",
       "      <td>1.0</td>\n",
       "    </tr>\n",
       "    <tr>\n",
       "      <th>36378</th>\n",
       "      <td>0.550133</td>\n",
       "      <td>-0.026204</td>\n",
       "      <td>0.0</td>\n",
       "      <td>0.0</td>\n",
       "      <td>0.0</td>\n",
       "      <td>0.0</td>\n",
       "      <td>0.0</td>\n",
       "      <td>0.0</td>\n",
       "      <td>0.0</td>\n",
       "      <td>0.0</td>\n",
       "      <td>...</td>\n",
       "      <td>0.0</td>\n",
       "      <td>0.0</td>\n",
       "      <td>0.0</td>\n",
       "      <td>0.0</td>\n",
       "      <td>0.0</td>\n",
       "      <td>0.0</td>\n",
       "      <td>0.0</td>\n",
       "      <td>0.0</td>\n",
       "      <td>0.0</td>\n",
       "      <td>1.0</td>\n",
       "    </tr>\n",
       "    <tr>\n",
       "      <th>43914</th>\n",
       "      <td>1.387282</td>\n",
       "      <td>1.417905</td>\n",
       "      <td>0.0</td>\n",
       "      <td>0.0</td>\n",
       "      <td>0.0</td>\n",
       "      <td>0.0</td>\n",
       "      <td>0.0</td>\n",
       "      <td>0.0</td>\n",
       "      <td>0.0</td>\n",
       "      <td>0.0</td>\n",
       "      <td>...</td>\n",
       "      <td>0.0</td>\n",
       "      <td>0.0</td>\n",
       "      <td>1.0</td>\n",
       "      <td>0.0</td>\n",
       "      <td>0.0</td>\n",
       "      <td>0.0</td>\n",
       "      <td>0.0</td>\n",
       "      <td>0.0</td>\n",
       "      <td>0.0</td>\n",
       "      <td>0.0</td>\n",
       "    </tr>\n",
       "    <tr>\n",
       "      <th>22433</th>\n",
       "      <td>-0.287017</td>\n",
       "      <td>1.084649</td>\n",
       "      <td>0.0</td>\n",
       "      <td>0.0</td>\n",
       "      <td>0.0</td>\n",
       "      <td>0.0</td>\n",
       "      <td>0.0</td>\n",
       "      <td>0.0</td>\n",
       "      <td>0.0</td>\n",
       "      <td>0.0</td>\n",
       "      <td>...</td>\n",
       "      <td>0.0</td>\n",
       "      <td>0.0</td>\n",
       "      <td>0.0</td>\n",
       "      <td>0.0</td>\n",
       "      <td>0.0</td>\n",
       "      <td>0.0</td>\n",
       "      <td>0.0</td>\n",
       "      <td>0.0</td>\n",
       "      <td>0.0</td>\n",
       "      <td>1.0</td>\n",
       "    </tr>\n",
       "    <tr>\n",
       "      <th>48951</th>\n",
       "      <td>2.224432</td>\n",
       "      <td>0.307052</td>\n",
       "      <td>0.0</td>\n",
       "      <td>0.0</td>\n",
       "      <td>0.0</td>\n",
       "      <td>0.0</td>\n",
       "      <td>0.0</td>\n",
       "      <td>0.0</td>\n",
       "      <td>0.0</td>\n",
       "      <td>0.0</td>\n",
       "      <td>...</td>\n",
       "      <td>0.0</td>\n",
       "      <td>0.0</td>\n",
       "      <td>0.0</td>\n",
       "      <td>0.0</td>\n",
       "      <td>0.0</td>\n",
       "      <td>0.0</td>\n",
       "      <td>0.0</td>\n",
       "      <td>0.0</td>\n",
       "      <td>0.0</td>\n",
       "      <td>1.0</td>\n",
       "    </tr>\n",
       "    <tr>\n",
       "      <th>...</th>\n",
       "      <td>...</td>\n",
       "      <td>...</td>\n",
       "      <td>...</td>\n",
       "      <td>...</td>\n",
       "      <td>...</td>\n",
       "      <td>...</td>\n",
       "      <td>...</td>\n",
       "      <td>...</td>\n",
       "      <td>...</td>\n",
       "      <td>...</td>\n",
       "      <td>...</td>\n",
       "      <td>...</td>\n",
       "      <td>...</td>\n",
       "      <td>...</td>\n",
       "      <td>...</td>\n",
       "      <td>...</td>\n",
       "      <td>...</td>\n",
       "      <td>...</td>\n",
       "      <td>...</td>\n",
       "      <td>...</td>\n",
       "      <td>...</td>\n",
       "    </tr>\n",
       "    <tr>\n",
       "      <th>27282</th>\n",
       "      <td>-0.287017</td>\n",
       "      <td>-1.803568</td>\n",
       "      <td>0.0</td>\n",
       "      <td>0.0</td>\n",
       "      <td>0.0</td>\n",
       "      <td>0.0</td>\n",
       "      <td>0.0</td>\n",
       "      <td>0.0</td>\n",
       "      <td>0.0</td>\n",
       "      <td>0.0</td>\n",
       "      <td>...</td>\n",
       "      <td>0.0</td>\n",
       "      <td>0.0</td>\n",
       "      <td>0.0</td>\n",
       "      <td>0.0</td>\n",
       "      <td>0.0</td>\n",
       "      <td>0.0</td>\n",
       "      <td>0.0</td>\n",
       "      <td>0.0</td>\n",
       "      <td>0.0</td>\n",
       "      <td>1.0</td>\n",
       "    </tr>\n",
       "    <tr>\n",
       "      <th>578</th>\n",
       "      <td>-0.287017</td>\n",
       "      <td>-1.470313</td>\n",
       "      <td>0.0</td>\n",
       "      <td>0.0</td>\n",
       "      <td>0.0</td>\n",
       "      <td>0.0</td>\n",
       "      <td>0.0</td>\n",
       "      <td>0.0</td>\n",
       "      <td>0.0</td>\n",
       "      <td>0.0</td>\n",
       "      <td>...</td>\n",
       "      <td>0.0</td>\n",
       "      <td>0.0</td>\n",
       "      <td>0.0</td>\n",
       "      <td>0.0</td>\n",
       "      <td>0.0</td>\n",
       "      <td>0.0</td>\n",
       "      <td>0.0</td>\n",
       "      <td>0.0</td>\n",
       "      <td>0.0</td>\n",
       "      <td>1.0</td>\n",
       "    </tr>\n",
       "    <tr>\n",
       "      <th>38616</th>\n",
       "      <td>0.550133</td>\n",
       "      <td>0.973564</td>\n",
       "      <td>0.0</td>\n",
       "      <td>0.0</td>\n",
       "      <td>0.0</td>\n",
       "      <td>0.0</td>\n",
       "      <td>0.0</td>\n",
       "      <td>0.0</td>\n",
       "      <td>0.0</td>\n",
       "      <td>0.0</td>\n",
       "      <td>...</td>\n",
       "      <td>0.0</td>\n",
       "      <td>0.0</td>\n",
       "      <td>0.0</td>\n",
       "      <td>0.0</td>\n",
       "      <td>0.0</td>\n",
       "      <td>0.0</td>\n",
       "      <td>0.0</td>\n",
       "      <td>0.0</td>\n",
       "      <td>0.0</td>\n",
       "      <td>1.0</td>\n",
       "    </tr>\n",
       "    <tr>\n",
       "      <th>2439</th>\n",
       "      <td>-0.287017</td>\n",
       "      <td>0.529223</td>\n",
       "      <td>0.0</td>\n",
       "      <td>0.0</td>\n",
       "      <td>0.0</td>\n",
       "      <td>0.0</td>\n",
       "      <td>0.0</td>\n",
       "      <td>0.0</td>\n",
       "      <td>0.0</td>\n",
       "      <td>0.0</td>\n",
       "      <td>...</td>\n",
       "      <td>0.0</td>\n",
       "      <td>1.0</td>\n",
       "      <td>0.0</td>\n",
       "      <td>0.0</td>\n",
       "      <td>0.0</td>\n",
       "      <td>0.0</td>\n",
       "      <td>0.0</td>\n",
       "      <td>0.0</td>\n",
       "      <td>0.0</td>\n",
       "      <td>0.0</td>\n",
       "    </tr>\n",
       "    <tr>\n",
       "      <th>23572</th>\n",
       "      <td>-0.287017</td>\n",
       "      <td>0.973564</td>\n",
       "      <td>0.0</td>\n",
       "      <td>0.0</td>\n",
       "      <td>0.0</td>\n",
       "      <td>0.0</td>\n",
       "      <td>0.0</td>\n",
       "      <td>0.0</td>\n",
       "      <td>0.0</td>\n",
       "      <td>0.0</td>\n",
       "      <td>...</td>\n",
       "      <td>0.0</td>\n",
       "      <td>0.0</td>\n",
       "      <td>0.0</td>\n",
       "      <td>0.0</td>\n",
       "      <td>0.0</td>\n",
       "      <td>0.0</td>\n",
       "      <td>0.0</td>\n",
       "      <td>0.0</td>\n",
       "      <td>1.0</td>\n",
       "      <td>0.0</td>\n",
       "    </tr>\n",
       "  </tbody>\n",
       "</table>\n",
       "<p>40070 rows × 24 columns</p>\n",
       "</div>"
      ],
      "text/plain": [
       "       Subject Age Group  Officer YOB  x0_Blunt Object/Striking Implement  \\\n",
       "47969           1.387282     0.418138                                 0.0   \n",
       "36378           0.550133    -0.026204                                 0.0   \n",
       "43914           1.387282     1.417905                                 0.0   \n",
       "22433          -0.287017     1.084649                                 0.0   \n",
       "48951           2.224432     0.307052                                 0.0   \n",
       "...                  ...          ...                                 ...   \n",
       "27282          -0.287017    -1.803568                                 0.0   \n",
       "578            -0.287017    -1.470313                                 0.0   \n",
       "38616           0.550133     0.973564                                 0.0   \n",
       "2439           -0.287017     0.529223                                 0.0   \n",
       "23572          -0.287017     0.973564                                 0.0   \n",
       "\n",
       "       x0_Club, Blackjack, Brass Knuckles  x0_Fire/Incendiary Device  \\\n",
       "47969                                 0.0                        0.0   \n",
       "36378                                 0.0                        0.0   \n",
       "43914                                 0.0                        0.0   \n",
       "22433                                 0.0                        0.0   \n",
       "48951                                 0.0                        0.0   \n",
       "...                                   ...                        ...   \n",
       "27282                                 0.0                        0.0   \n",
       "578                                   0.0                        0.0   \n",
       "38616                                 0.0                        0.0   \n",
       "2439                                  0.0                        0.0   \n",
       "23572                                 0.0                        0.0   \n",
       "\n",
       "       x0_Firearm  x0_Handgun  x0_Knife/Cutting/Stabbing Instrument  \\\n",
       "47969         0.0         0.0                                   0.0   \n",
       "36378         0.0         0.0                                   0.0   \n",
       "43914         0.0         0.0                                   0.0   \n",
       "22433         0.0         0.0                                   0.0   \n",
       "48951         0.0         0.0                                   0.0   \n",
       "...           ...         ...                                   ...   \n",
       "27282         0.0         0.0                                   0.0   \n",
       "578           0.0         0.0                                   0.0   \n",
       "38616         0.0         0.0                                   0.0   \n",
       "2439          0.0         0.0                                   0.0   \n",
       "23572         0.0         0.0                                   0.0   \n",
       "\n",
       "       x0_Lethal Cutting Instrument  x0_Mace/Pepper Spray  ...  \\\n",
       "47969                           0.0                   0.0  ...   \n",
       "36378                           0.0                   0.0  ...   \n",
       "43914                           0.0                   0.0  ...   \n",
       "22433                           0.0                   0.0  ...   \n",
       "48951                           0.0                   0.0  ...   \n",
       "...                             ...                   ...  ...   \n",
       "27282                           0.0                   0.0  ...   \n",
       "578                             0.0                   0.0  ...   \n",
       "38616                           0.0                   0.0  ...   \n",
       "2439                            0.0                   0.0  ...   \n",
       "23572                           0.0                   0.0  ...   \n",
       "\n",
       "       x0_Taser/Stun Gun  x1_American Indian or Alaska Native  x1_Asian  \\\n",
       "47969                0.0                                  0.0       0.0   \n",
       "36378                0.0                                  0.0       0.0   \n",
       "43914                0.0                                  0.0       1.0   \n",
       "22433                0.0                                  0.0       0.0   \n",
       "48951                0.0                                  0.0       0.0   \n",
       "...                  ...                                  ...       ...   \n",
       "27282                0.0                                  0.0       0.0   \n",
       "578                  0.0                                  0.0       0.0   \n",
       "38616                0.0                                  0.0       0.0   \n",
       "2439                 0.0                                  1.0       0.0   \n",
       "23572                0.0                                  0.0       0.0   \n",
       "\n",
       "       x1_Black or African American  x1_Hispanic  x1_Multi-Racial  \\\n",
       "47969                           0.0          0.0              0.0   \n",
       "36378                           0.0          0.0              0.0   \n",
       "43914                           0.0          0.0              0.0   \n",
       "22433                           0.0          0.0              0.0   \n",
       "48951                           0.0          0.0              0.0   \n",
       "...                             ...          ...              ...   \n",
       "27282                           0.0          0.0              0.0   \n",
       "578                             0.0          0.0              0.0   \n",
       "38616                           0.0          0.0              0.0   \n",
       "2439                            0.0          0.0              0.0   \n",
       "23572                           0.0          0.0              0.0   \n",
       "\n",
       "       x1_Native Hawaiian or Other Pacific Islander  x1_Other  x1_Unknown  \\\n",
       "47969                                           0.0       0.0         0.0   \n",
       "36378                                           0.0       0.0         0.0   \n",
       "43914                                           0.0       0.0         0.0   \n",
       "22433                                           0.0       0.0         0.0   \n",
       "48951                                           0.0       0.0         0.0   \n",
       "...                                             ...       ...         ...   \n",
       "27282                                           0.0       0.0         0.0   \n",
       "578                                             0.0       0.0         0.0   \n",
       "38616                                           0.0       0.0         0.0   \n",
       "2439                                            0.0       0.0         0.0   \n",
       "23572                                           0.0       0.0         1.0   \n",
       "\n",
       "       x1_White  \n",
       "47969       1.0  \n",
       "36378       1.0  \n",
       "43914       0.0  \n",
       "22433       1.0  \n",
       "48951       1.0  \n",
       "...         ...  \n",
       "27282       1.0  \n",
       "578         1.0  \n",
       "38616       1.0  \n",
       "2439        0.0  \n",
       "23572       0.0  \n",
       "\n",
       "[40070 rows x 24 columns]"
      ]
     },
     "execution_count": 46,
     "metadata": {},
     "output_type": "execute_result"
    }
   ],
   "source": [
    "X_train_clean = pd.concat([scaled_df, dummy_df], axis=1)\n",
    "X_train_clean "
   ]
  },
  {
   "cell_type": "code",
   "execution_count": 47,
   "id": "d6a1d416",
   "metadata": {},
   "outputs": [
    {
     "name": "stderr",
     "output_type": "stream",
     "text": [
      "C:\\Users\\metropolitanparkapts\\anaconda3\\lib\\site-packages\\sklearn\\utils\\deprecation.py:87: FutureWarning: Function get_feature_names is deprecated; get_feature_names is deprecated in 1.0 and will be removed in 1.2. Please use get_feature_names_out instead.\n",
      "  warnings.warn(msg, category=FutureWarning)\n"
     ]
    }
   ],
   "source": [
    "X_test_cat = X_test.select_dtypes('object')\n",
    "\n",
    "dummy1 = ohe.transform(X_test_cat)\n",
    "dummy_df1 = pd.DataFrame(dummy1, columns=ohe.get_feature_names(), index=X_test_cat.index)\n"
   ]
  },
  {
   "cell_type": "code",
   "execution_count": 48,
   "id": "cf018b2b",
   "metadata": {},
   "outputs": [],
   "source": [
    "X_test_nums = X_test.select_dtypes(include=['float64', 'int64'])\n",
    "\n",
    "scaled = ss.transform(X_test_nums)\n",
    "\n",
    "scaled_df1 = pd.DataFrame(scaled, index=X_test_nums.index)\n",
    "scaled_df1.columns = X_test_nums.columns\n"
   ]
  },
  {
   "cell_type": "code",
   "execution_count": 49,
   "id": "bd5f92f2",
   "metadata": {},
   "outputs": [
    {
     "data": {
      "text/html": [
       "<div>\n",
       "<style scoped>\n",
       "    .dataframe tbody tr th:only-of-type {\n",
       "        vertical-align: middle;\n",
       "    }\n",
       "\n",
       "    .dataframe tbody tr th {\n",
       "        vertical-align: top;\n",
       "    }\n",
       "\n",
       "    .dataframe thead th {\n",
       "        text-align: right;\n",
       "    }\n",
       "</style>\n",
       "<table border=\"1\" class=\"dataframe\">\n",
       "  <thead>\n",
       "    <tr style=\"text-align: right;\">\n",
       "      <th></th>\n",
       "      <th>Subject Age Group</th>\n",
       "      <th>Officer YOB</th>\n",
       "      <th>x0_Blunt Object/Striking Implement</th>\n",
       "      <th>x0_Club, Blackjack, Brass Knuckles</th>\n",
       "      <th>x0_Fire/Incendiary Device</th>\n",
       "      <th>x0_Firearm</th>\n",
       "      <th>x0_Handgun</th>\n",
       "      <th>x0_Knife/Cutting/Stabbing Instrument</th>\n",
       "      <th>x0_Lethal Cutting Instrument</th>\n",
       "      <th>x0_Mace/Pepper Spray</th>\n",
       "      <th>...</th>\n",
       "      <th>x0_Taser/Stun Gun</th>\n",
       "      <th>x1_American Indian or Alaska Native</th>\n",
       "      <th>x1_Asian</th>\n",
       "      <th>x1_Black or African American</th>\n",
       "      <th>x1_Hispanic</th>\n",
       "      <th>x1_Multi-Racial</th>\n",
       "      <th>x1_Native Hawaiian or Other Pacific Islander</th>\n",
       "      <th>x1_Other</th>\n",
       "      <th>x1_Unknown</th>\n",
       "      <th>x1_White</th>\n",
       "    </tr>\n",
       "  </thead>\n",
       "  <tbody>\n",
       "    <tr>\n",
       "      <th>45402</th>\n",
       "      <td>1.387282</td>\n",
       "      <td>0.640308</td>\n",
       "      <td>0.0</td>\n",
       "      <td>0.0</td>\n",
       "      <td>0.0</td>\n",
       "      <td>0.0</td>\n",
       "      <td>0.0</td>\n",
       "      <td>0.0</td>\n",
       "      <td>0.0</td>\n",
       "      <td>0.0</td>\n",
       "      <td>...</td>\n",
       "      <td>0.0</td>\n",
       "      <td>0.0</td>\n",
       "      <td>0.0</td>\n",
       "      <td>0.0</td>\n",
       "      <td>0.0</td>\n",
       "      <td>0.0</td>\n",
       "      <td>0.0</td>\n",
       "      <td>0.0</td>\n",
       "      <td>0.0</td>\n",
       "      <td>1.0</td>\n",
       "    </tr>\n",
       "    <tr>\n",
       "      <th>9189</th>\n",
       "      <td>-1.124166</td>\n",
       "      <td>0.418138</td>\n",
       "      <td>0.0</td>\n",
       "      <td>0.0</td>\n",
       "      <td>0.0</td>\n",
       "      <td>0.0</td>\n",
       "      <td>0.0</td>\n",
       "      <td>0.0</td>\n",
       "      <td>0.0</td>\n",
       "      <td>0.0</td>\n",
       "      <td>...</td>\n",
       "      <td>0.0</td>\n",
       "      <td>0.0</td>\n",
       "      <td>0.0</td>\n",
       "      <td>0.0</td>\n",
       "      <td>0.0</td>\n",
       "      <td>0.0</td>\n",
       "      <td>0.0</td>\n",
       "      <td>0.0</td>\n",
       "      <td>0.0</td>\n",
       "      <td>1.0</td>\n",
       "    </tr>\n",
       "    <tr>\n",
       "      <th>17366</th>\n",
       "      <td>-0.287017</td>\n",
       "      <td>-2.358995</td>\n",
       "      <td>0.0</td>\n",
       "      <td>0.0</td>\n",
       "      <td>0.0</td>\n",
       "      <td>0.0</td>\n",
       "      <td>0.0</td>\n",
       "      <td>0.0</td>\n",
       "      <td>0.0</td>\n",
       "      <td>0.0</td>\n",
       "      <td>...</td>\n",
       "      <td>0.0</td>\n",
       "      <td>0.0</td>\n",
       "      <td>0.0</td>\n",
       "      <td>0.0</td>\n",
       "      <td>0.0</td>\n",
       "      <td>0.0</td>\n",
       "      <td>0.0</td>\n",
       "      <td>0.0</td>\n",
       "      <td>0.0</td>\n",
       "      <td>1.0</td>\n",
       "    </tr>\n",
       "    <tr>\n",
       "      <th>27878</th>\n",
       "      <td>-0.287017</td>\n",
       "      <td>1.306820</td>\n",
       "      <td>0.0</td>\n",
       "      <td>0.0</td>\n",
       "      <td>0.0</td>\n",
       "      <td>0.0</td>\n",
       "      <td>0.0</td>\n",
       "      <td>0.0</td>\n",
       "      <td>0.0</td>\n",
       "      <td>0.0</td>\n",
       "      <td>...</td>\n",
       "      <td>0.0</td>\n",
       "      <td>0.0</td>\n",
       "      <td>0.0</td>\n",
       "      <td>0.0</td>\n",
       "      <td>0.0</td>\n",
       "      <td>0.0</td>\n",
       "      <td>0.0</td>\n",
       "      <td>0.0</td>\n",
       "      <td>1.0</td>\n",
       "      <td>0.0</td>\n",
       "    </tr>\n",
       "    <tr>\n",
       "      <th>35550</th>\n",
       "      <td>0.550133</td>\n",
       "      <td>0.862479</td>\n",
       "      <td>0.0</td>\n",
       "      <td>0.0</td>\n",
       "      <td>0.0</td>\n",
       "      <td>0.0</td>\n",
       "      <td>0.0</td>\n",
       "      <td>0.0</td>\n",
       "      <td>0.0</td>\n",
       "      <td>0.0</td>\n",
       "      <td>...</td>\n",
       "      <td>0.0</td>\n",
       "      <td>1.0</td>\n",
       "      <td>0.0</td>\n",
       "      <td>0.0</td>\n",
       "      <td>0.0</td>\n",
       "      <td>0.0</td>\n",
       "      <td>0.0</td>\n",
       "      <td>0.0</td>\n",
       "      <td>0.0</td>\n",
       "      <td>0.0</td>\n",
       "    </tr>\n",
       "    <tr>\n",
       "      <th>...</th>\n",
       "      <td>...</td>\n",
       "      <td>...</td>\n",
       "      <td>...</td>\n",
       "      <td>...</td>\n",
       "      <td>...</td>\n",
       "      <td>...</td>\n",
       "      <td>...</td>\n",
       "      <td>...</td>\n",
       "      <td>...</td>\n",
       "      <td>...</td>\n",
       "      <td>...</td>\n",
       "      <td>...</td>\n",
       "      <td>...</td>\n",
       "      <td>...</td>\n",
       "      <td>...</td>\n",
       "      <td>...</td>\n",
       "      <td>...</td>\n",
       "      <td>...</td>\n",
       "      <td>...</td>\n",
       "      <td>...</td>\n",
       "      <td>...</td>\n",
       "    </tr>\n",
       "    <tr>\n",
       "      <th>48765</th>\n",
       "      <td>1.387282</td>\n",
       "      <td>0.862479</td>\n",
       "      <td>0.0</td>\n",
       "      <td>0.0</td>\n",
       "      <td>0.0</td>\n",
       "      <td>0.0</td>\n",
       "      <td>0.0</td>\n",
       "      <td>0.0</td>\n",
       "      <td>0.0</td>\n",
       "      <td>0.0</td>\n",
       "      <td>...</td>\n",
       "      <td>0.0</td>\n",
       "      <td>0.0</td>\n",
       "      <td>0.0</td>\n",
       "      <td>0.0</td>\n",
       "      <td>0.0</td>\n",
       "      <td>0.0</td>\n",
       "      <td>0.0</td>\n",
       "      <td>0.0</td>\n",
       "      <td>1.0</td>\n",
       "      <td>0.0</td>\n",
       "    </tr>\n",
       "    <tr>\n",
       "      <th>41176</th>\n",
       "      <td>0.550133</td>\n",
       "      <td>1.306820</td>\n",
       "      <td>0.0</td>\n",
       "      <td>0.0</td>\n",
       "      <td>0.0</td>\n",
       "      <td>0.0</td>\n",
       "      <td>0.0</td>\n",
       "      <td>0.0</td>\n",
       "      <td>0.0</td>\n",
       "      <td>0.0</td>\n",
       "      <td>...</td>\n",
       "      <td>0.0</td>\n",
       "      <td>0.0</td>\n",
       "      <td>0.0</td>\n",
       "      <td>0.0</td>\n",
       "      <td>0.0</td>\n",
       "      <td>0.0</td>\n",
       "      <td>0.0</td>\n",
       "      <td>0.0</td>\n",
       "      <td>1.0</td>\n",
       "      <td>0.0</td>\n",
       "    </tr>\n",
       "    <tr>\n",
       "      <th>31910</th>\n",
       "      <td>0.550133</td>\n",
       "      <td>-1.248142</td>\n",
       "      <td>0.0</td>\n",
       "      <td>0.0</td>\n",
       "      <td>0.0</td>\n",
       "      <td>0.0</td>\n",
       "      <td>0.0</td>\n",
       "      <td>0.0</td>\n",
       "      <td>0.0</td>\n",
       "      <td>0.0</td>\n",
       "      <td>...</td>\n",
       "      <td>0.0</td>\n",
       "      <td>0.0</td>\n",
       "      <td>0.0</td>\n",
       "      <td>0.0</td>\n",
       "      <td>0.0</td>\n",
       "      <td>0.0</td>\n",
       "      <td>0.0</td>\n",
       "      <td>0.0</td>\n",
       "      <td>0.0</td>\n",
       "      <td>1.0</td>\n",
       "    </tr>\n",
       "    <tr>\n",
       "      <th>46472</th>\n",
       "      <td>2.224432</td>\n",
       "      <td>0.640308</td>\n",
       "      <td>0.0</td>\n",
       "      <td>0.0</td>\n",
       "      <td>0.0</td>\n",
       "      <td>0.0</td>\n",
       "      <td>0.0</td>\n",
       "      <td>0.0</td>\n",
       "      <td>1.0</td>\n",
       "      <td>0.0</td>\n",
       "      <td>...</td>\n",
       "      <td>0.0</td>\n",
       "      <td>1.0</td>\n",
       "      <td>0.0</td>\n",
       "      <td>0.0</td>\n",
       "      <td>0.0</td>\n",
       "      <td>0.0</td>\n",
       "      <td>0.0</td>\n",
       "      <td>0.0</td>\n",
       "      <td>0.0</td>\n",
       "      <td>0.0</td>\n",
       "    </tr>\n",
       "    <tr>\n",
       "      <th>7573</th>\n",
       "      <td>-1.124166</td>\n",
       "      <td>-0.692715</td>\n",
       "      <td>0.0</td>\n",
       "      <td>0.0</td>\n",
       "      <td>0.0</td>\n",
       "      <td>0.0</td>\n",
       "      <td>0.0</td>\n",
       "      <td>0.0</td>\n",
       "      <td>0.0</td>\n",
       "      <td>0.0</td>\n",
       "      <td>...</td>\n",
       "      <td>0.0</td>\n",
       "      <td>0.0</td>\n",
       "      <td>1.0</td>\n",
       "      <td>0.0</td>\n",
       "      <td>0.0</td>\n",
       "      <td>0.0</td>\n",
       "      <td>0.0</td>\n",
       "      <td>0.0</td>\n",
       "      <td>0.0</td>\n",
       "      <td>0.0</td>\n",
       "    </tr>\n",
       "  </tbody>\n",
       "</table>\n",
       "<p>10018 rows × 24 columns</p>\n",
       "</div>"
      ],
      "text/plain": [
       "       Subject Age Group  Officer YOB  x0_Blunt Object/Striking Implement  \\\n",
       "45402           1.387282     0.640308                                 0.0   \n",
       "9189           -1.124166     0.418138                                 0.0   \n",
       "17366          -0.287017    -2.358995                                 0.0   \n",
       "27878          -0.287017     1.306820                                 0.0   \n",
       "35550           0.550133     0.862479                                 0.0   \n",
       "...                  ...          ...                                 ...   \n",
       "48765           1.387282     0.862479                                 0.0   \n",
       "41176           0.550133     1.306820                                 0.0   \n",
       "31910           0.550133    -1.248142                                 0.0   \n",
       "46472           2.224432     0.640308                                 0.0   \n",
       "7573           -1.124166    -0.692715                                 0.0   \n",
       "\n",
       "       x0_Club, Blackjack, Brass Knuckles  x0_Fire/Incendiary Device  \\\n",
       "45402                                 0.0                        0.0   \n",
       "9189                                  0.0                        0.0   \n",
       "17366                                 0.0                        0.0   \n",
       "27878                                 0.0                        0.0   \n",
       "35550                                 0.0                        0.0   \n",
       "...                                   ...                        ...   \n",
       "48765                                 0.0                        0.0   \n",
       "41176                                 0.0                        0.0   \n",
       "31910                                 0.0                        0.0   \n",
       "46472                                 0.0                        0.0   \n",
       "7573                                  0.0                        0.0   \n",
       "\n",
       "       x0_Firearm  x0_Handgun  x0_Knife/Cutting/Stabbing Instrument  \\\n",
       "45402         0.0         0.0                                   0.0   \n",
       "9189          0.0         0.0                                   0.0   \n",
       "17366         0.0         0.0                                   0.0   \n",
       "27878         0.0         0.0                                   0.0   \n",
       "35550         0.0         0.0                                   0.0   \n",
       "...           ...         ...                                   ...   \n",
       "48765         0.0         0.0                                   0.0   \n",
       "41176         0.0         0.0                                   0.0   \n",
       "31910         0.0         0.0                                   0.0   \n",
       "46472         0.0         0.0                                   0.0   \n",
       "7573          0.0         0.0                                   0.0   \n",
       "\n",
       "       x0_Lethal Cutting Instrument  x0_Mace/Pepper Spray  ...  \\\n",
       "45402                           0.0                   0.0  ...   \n",
       "9189                            0.0                   0.0  ...   \n",
       "17366                           0.0                   0.0  ...   \n",
       "27878                           0.0                   0.0  ...   \n",
       "35550                           0.0                   0.0  ...   \n",
       "...                             ...                   ...  ...   \n",
       "48765                           0.0                   0.0  ...   \n",
       "41176                           0.0                   0.0  ...   \n",
       "31910                           0.0                   0.0  ...   \n",
       "46472                           1.0                   0.0  ...   \n",
       "7573                            0.0                   0.0  ...   \n",
       "\n",
       "       x0_Taser/Stun Gun  x1_American Indian or Alaska Native  x1_Asian  \\\n",
       "45402                0.0                                  0.0       0.0   \n",
       "9189                 0.0                                  0.0       0.0   \n",
       "17366                0.0                                  0.0       0.0   \n",
       "27878                0.0                                  0.0       0.0   \n",
       "35550                0.0                                  1.0       0.0   \n",
       "...                  ...                                  ...       ...   \n",
       "48765                0.0                                  0.0       0.0   \n",
       "41176                0.0                                  0.0       0.0   \n",
       "31910                0.0                                  0.0       0.0   \n",
       "46472                0.0                                  1.0       0.0   \n",
       "7573                 0.0                                  0.0       1.0   \n",
       "\n",
       "       x1_Black or African American  x1_Hispanic  x1_Multi-Racial  \\\n",
       "45402                           0.0          0.0              0.0   \n",
       "9189                            0.0          0.0              0.0   \n",
       "17366                           0.0          0.0              0.0   \n",
       "27878                           0.0          0.0              0.0   \n",
       "35550                           0.0          0.0              0.0   \n",
       "...                             ...          ...              ...   \n",
       "48765                           0.0          0.0              0.0   \n",
       "41176                           0.0          0.0              0.0   \n",
       "31910                           0.0          0.0              0.0   \n",
       "46472                           0.0          0.0              0.0   \n",
       "7573                            0.0          0.0              0.0   \n",
       "\n",
       "       x1_Native Hawaiian or Other Pacific Islander  x1_Other  x1_Unknown  \\\n",
       "45402                                           0.0       0.0         0.0   \n",
       "9189                                            0.0       0.0         0.0   \n",
       "17366                                           0.0       0.0         0.0   \n",
       "27878                                           0.0       0.0         1.0   \n",
       "35550                                           0.0       0.0         0.0   \n",
       "...                                             ...       ...         ...   \n",
       "48765                                           0.0       0.0         1.0   \n",
       "41176                                           0.0       0.0         1.0   \n",
       "31910                                           0.0       0.0         0.0   \n",
       "46472                                           0.0       0.0         0.0   \n",
       "7573                                            0.0       0.0         0.0   \n",
       "\n",
       "       x1_White  \n",
       "45402       1.0  \n",
       "9189        1.0  \n",
       "17366       1.0  \n",
       "27878       0.0  \n",
       "35550       0.0  \n",
       "...         ...  \n",
       "48765       0.0  \n",
       "41176       0.0  \n",
       "31910       1.0  \n",
       "46472       0.0  \n",
       "7573        0.0  \n",
       "\n",
       "[10018 rows x 24 columns]"
      ]
     },
     "execution_count": 49,
     "metadata": {},
     "output_type": "execute_result"
    }
   ],
   "source": [
    "X_test_clean = pd.concat([scaled_df1, dummy_df1], axis=1)\n",
    "X_test_clean"
   ]
  },
  {
   "cell_type": "code",
   "execution_count": 50,
   "id": "c5fdab5d",
   "metadata": {
    "scrolled": true
   },
   "outputs": [
    {
     "data": {
      "text/plain": [
       "(0.7527576740703769, 0.75324416051108)"
      ]
     },
     "execution_count": 50,
     "metadata": {},
     "output_type": "execute_result"
    }
   ],
   "source": [
    "model = LogisticRegression(max_iter = 800 ,random_state= 42)\n",
    "\n",
    "model.fit(X_train_clean, y_train)\n",
    "model.score(X_train_clean, y_train),model.score(X_test_clean, y_test)"
   ]
  },
  {
   "cell_type": "code",
   "execution_count": 51,
   "id": "eb5368c1",
   "metadata": {},
   "outputs": [
    {
     "data": {
      "text/plain": [
       "array([0.75196526, 0.7523396 , 0.75202156])"
      ]
     },
     "execution_count": 51,
     "metadata": {},
     "output_type": "execute_result"
    }
   ],
   "source": [
    "cv_scores = cross_val_score(model, X_train_clean, y_train, cv=3)\n",
    "cv_scores"
   ]
  },
  {
   "cell_type": "code",
   "execution_count": 52,
   "id": "6f89ab52",
   "metadata": {},
   "outputs": [
    {
     "name": "stderr",
     "output_type": "stream",
     "text": [
      "C:\\Users\\metropolitanparkapts\\anaconda3\\lib\\site-packages\\sklearn\\utils\\deprecation.py:87: FutureWarning: Function plot_confusion_matrix is deprecated; Function `plot_confusion_matrix` is deprecated in 1.0 and will be removed in 1.2. Use one of the class methods: ConfusionMatrixDisplay.from_predictions or ConfusionMatrixDisplay.from_estimator.\n",
      "  warnings.warn(msg, category=FutureWarning)\n"
     ]
    },
    {
     "data": {
      "image/png": "[encoded data removed]",
      "text/plain": [
       "<Figure size 576x396 with 2 Axes>"
      ]
     },
     "metadata": {},
     "output_type": "display_data"
    }
   ],
   "source": [
    "plot_confusion_matrix(model, X_train_clean, y_train);\n",
    "plt.grid(False)"
   ]
  },
  {
   "cell_type": "markdown",
   "id": "13a9fb71",
   "metadata": {},
   "source": [
    "## We have a 75 percent accuracy for our Baseline lets see if we caan improve upon this "
   ]
  },
  {
   "cell_type": "markdown",
   "id": "dd81cf36",
   "metadata": {},
   "source": [
    "1-17 = 1\n",
    "18-25 = 2 \n",
    "26-35 = 3 \n",
    "36-45 = 4\n",
    "46 - 55 = 5\n",
    "56 and above = 6 "
   ]
  },
  {
   "cell_type": "markdown",
   "id": "87eadc8c",
   "metadata": {},
   "source": [
    "I do not want to drop any of my data so I will change the dash in 'Subject Precieved Race' to Unknown as that is a column within this then I will OHE as there aren't that many columns here that would be added on."
   ]
  },
  {
   "cell_type": "markdown",
   "id": "e0a19402",
   "metadata": {},
   "source": [
    "Converte the Date into A Datetime Object"
   ]
  },
  {
   "cell_type": "markdown",
   "id": "8f3c9550",
   "metadata": {},
   "source": [
    "75 percent of the officers Identify as white. Therfore it would skew any racial bias on my data set.\n",
    "\n",
    "So I will drop this column as it has no correlation to my target factor of arrest."
   ]
  },
  {
   "cell_type": "markdown",
   "id": "4ee6f14d",
   "metadata": {},
   "source": [
    "I am combining weapon types to make less columns to be added on to my dataset\n"
   ]
  },
  {
   "cell_type": "markdown",
   "id": "6bd7c718",
   "metadata": {},
   "source": [
    "Condition_Weapon =df[['Weapon Type']]\n",
    "weapon_ohe= OneHotEncoder(categories='auto', sparse = False, handle_unknown='ignore')\n",
    "weapon_ohe.fit(Condition_Weapon)\n",
    "weapon_ohe.categories_\n",
    "weapon_encoded_train = weapon_ohe.transform(Condition_Weapon)\n",
    "weapon_encoded_train\n",
    "weapon_encoded_train = pd.DataFrame(weapon_encoded_train, columns =weapon_ohe.categories_)\n",
    "weapon_encoded_train\n",
    "df = pd.concat([df,weapon_encoded_train], axis = 1)\n",
    "df.columns"
   ]
  },
  {
   "cell_type": "markdown",
   "id": "f2091d79",
   "metadata": {},
   "source": [
    "## Random Forrest Classifier \n",
    "\n",
    "#### 76.96 "
   ]
  },
  {
   "cell_type": "code",
   "execution_count": 53,
   "id": "c0aa2934",
   "metadata": {},
   "outputs": [
    {
     "data": {
      "text/plain": [
       "(0.7693536311454954, 0.7485526053104412)"
      ]
     },
     "execution_count": 53,
     "metadata": {},
     "output_type": "execute_result"
    }
   ],
   "source": [
    "rfc = RandomForestClassifier(random_state=40)\n",
    "rfc.fit(X_train_clean, y_train)\n",
    "\n",
    "rfc.score(X_train_clean, y_train), rfc.score(X_test_clean, y_test)"
   ]
  },
  {
   "cell_type": "code",
   "execution_count": 54,
   "id": "7375782c",
   "metadata": {},
   "outputs": [
    {
     "data": {
      "text/plain": [
       "array([0, 0, 0, ..., 0, 0, 0], dtype=uint8)"
      ]
     },
     "execution_count": 54,
     "metadata": {},
     "output_type": "execute_result"
    }
   ],
   "source": [
    "rfc.predict(X_test_clean)"
   ]
  },
  {
   "cell_type": "code",
   "execution_count": 55,
   "id": "b4c8fa0d",
   "metadata": {},
   "outputs": [
    {
     "name": "stderr",
     "output_type": "stream",
     "text": [
      "C:\\Users\\metropolitanparkapts\\anaconda3\\lib\\site-packages\\sklearn\\utils\\deprecation.py:87: FutureWarning: Function plot_confusion_matrix is deprecated; Function `plot_confusion_matrix` is deprecated in 1.0 and will be removed in 1.2. Use one of the class methods: ConfusionMatrixDisplay.from_predictions or ConfusionMatrixDisplay.from_estimator.\n",
      "  warnings.warn(msg, category=FutureWarning)\n"
     ]
    },
    {
     "data": {
      "image/png": "[encoded data removed]",
      "text/plain": [
       "<Figure size 576x396 with 2 Axes>"
      ]
     },
     "metadata": {},
     "output_type": "display_data"
    }
   ],
   "source": [
    "plot_confusion_matrix(rfc, X_test_clean, y_test);\n",
    "plt.grid(False)"
   ]
  },
  {
   "cell_type": "markdown",
   "id": "0fd12400",
   "metadata": {},
   "source": [
    "## Decisiion Tree Classifier\n",
    "##### This model pretty ideally demonstrates that the time wasted behind terry stops is insane nothing is for sure it is al a "
   ]
  },
  {
   "cell_type": "code",
   "execution_count": 56,
   "id": "8414f7a3",
   "metadata": {},
   "outputs": [
    {
     "data": {
      "text/plain": [
       "DecisionTreeClassifier(max_depth=3, random_state=42)"
      ]
     },
     "execution_count": 56,
     "metadata": {},
     "output_type": "execute_result"
    }
   ],
   "source": [
    "dtc = DecisionTreeClassifier(random_state=42, max_depth= 3)\n",
    "dtc.fit(X_train_clean, y_train)"
   ]
  },
  {
   "cell_type": "code",
   "execution_count": 69,
   "id": "b66587cc",
   "metadata": {},
   "outputs": [],
   "source": [
    "y_score_Dtc = model.fit(X_train_clean, y_train).decision_function(X_test_clean)"
   ]
  },
  {
   "cell_type": "code",
   "execution_count": 74,
   "id": "2f69dd55",
   "metadata": {},
   "outputs": [
    {
     "data": {
      "text/plain": [
       "'Precision score: 0.5688073394495413'"
      ]
     },
     "execution_count": 74,
     "metadata": {},
     "output_type": "execute_result"
    }
   ],
   "source": [
    "(\"Precision score: {}\".format(precision_score(y_test,y_pred)))"
   ]
  },
  {
   "cell_type": "code",
   "execution_count": 75,
   "id": "002eec6c",
   "metadata": {},
   "outputs": [
    {
     "data": {
      "text/plain": [
       "'Recall score: 0.02491961414790997'"
      ]
     },
     "execution_count": 75,
     "metadata": {},
     "output_type": "execute_result"
    }
   ],
   "source": [
    "(\"Recall score: {}\".format(recall_score(y_test,y_pred)))"
   ]
  },
  {
   "cell_type": "code",
   "execution_count": 59,
   "id": "5ed62253",
   "metadata": {},
   "outputs": [
    {
     "name": "stdout",
     "output_type": "stream",
     "text": [
      "Accuracy: 75.31443401876622\n"
     ]
    }
   ],
   "source": [
    "acc = accuracy_score(y_test, y_pred) * 100\n",
    "print(\"Accuracy: {0}\".format(acc))"
   ]
  },
  {
   "cell_type": "code",
   "execution_count": 71,
   "id": "868fa099",
   "metadata": {},
   "outputs": [
    {
     "data": {
      "text/plain": [
       "array([0, 0, 0, ..., 0, 0, 0], dtype=uint8)"
      ]
     },
     "execution_count": 71,
     "metadata": {},
     "output_type": "execute_result"
    }
   ],
   "source": [
    "y_pred = dtc.predict(X_test_clean)\n",
    "y_pred"
   ]
  },
  {
   "cell_type": "code",
   "execution_count": 89,
   "id": "56e87d5c",
   "metadata": {
    "scrolled": true
   },
   "outputs": [
    {
     "ename": "TypeError",
     "evalue": "classification_report() missing 1 required positional argument: 'y_train'",
     "output_type": "error",
     "traceback": [
      "\u001b[1;31m---------------------------------------------------------------------------\u001b[0m",
      "\u001b[1;31mTypeError\u001b[0m                                 Traceback (most recent call last)",
      "\u001b[1;32m<ipython-input-89-0ed07b2a5027>\u001b[0m in \u001b[0;36m<module>\u001b[1;34m\u001b[0m\n\u001b[1;32m----> 1\u001b[1;33m \u001b[0mprint\u001b[0m\u001b[1;33m(\u001b[0m\u001b[0mclassification_report\u001b[0m\u001b[1;33m(\u001b[0m\u001b[0my_train\u001b[0m\u001b[1;33m,\u001b[0m \u001b[0my_pred\u001b[0m\u001b[1;33m,\u001b[0m \u001b[0mtarget_names\u001b[0m\u001b[1;33m=\u001b[0m\u001b[0mterry\u001b[0m\u001b[1;33m[\u001b[0m\u001b[1;34m'Arrest'\u001b[0m\u001b[1;33m]\u001b[0m\u001b[1;33m)\u001b[0m\u001b[1;33m)\u001b[0m\u001b[1;33m\u001b[0m\u001b[1;33m\u001b[0m\u001b[0m\n\u001b[0m",
      "\u001b[1;31mTypeError\u001b[0m: classification_report() missing 1 required positional argument: 'y_train'"
     ]
    }
   ],
   "source": [
    "\n",
    "plot_roc_curve(lr_base, X_train_clean, y_train)"
   ]
  },
  {
   "cell_type": "code",
   "execution_count": 58,
   "id": "03ddcf40",
   "metadata": {},
   "outputs": [
    {
     "name": "stderr",
     "output_type": "stream",
     "text": [
      "C:\\Users\\metropolitanparkapts\\anaconda3\\lib\\site-packages\\sklearn\\utils\\deprecation.py:87: FutureWarning: Function plot_confusion_matrix is deprecated; Function `plot_confusion_matrix` is deprecated in 1.0 and will be removed in 1.2. Use one of the class methods: ConfusionMatrixDisplay.from_predictions or ConfusionMatrixDisplay.from_estimator.\n",
      "  warnings.warn(msg, category=FutureWarning)\n"
     ]
    },
    {
     "data": {
      "image/png": "[encoded data removed]",
      "text/plain": [
       "<Figure size 576x396 with 2 Axes>"
      ]
     },
     "metadata": {},
     "output_type": "display_data"
    }
   ],
   "source": [
    "plot_confusion_matrix(dtc, X_test_clean, y_test);\n",
    "plt.grid(False)"
   ]
  },
  {
   "cell_type": "markdown",
   "id": "e1ab6051",
   "metadata": {},
   "source": [
    "###### When ccp_alpha is set to zero and keeping the other default parameters of DecisionTreeClassifier, the tree overfits, leading to a 100% training accuracy and 88% testing accuracy. As alpha increases, more of the tree is pruned, thus creating a decision tree that generalizes better. In this example, setting ccp_alpha=0.015 maximizes the testing accuracy."
   ]
  },
  {
   "cell_type": "code",
   "execution_count": 60,
   "id": "2b103b91",
   "metadata": {},
   "outputs": [
    {
     "data": {
      "text/plain": [
       "0.7516470353363945"
      ]
     },
     "execution_count": 60,
     "metadata": {},
     "output_type": "execute_result"
    }
   ],
   "source": [
    "dtc_ccp = DecisionTreeClassifier(random_state=42, ccp_alpha= .05)\n",
    "dtc_ccp.fit(X_test_clean, y_test)\n",
    "dtc_ccp.score(X_test_clean, y_test)"
   ]
  },
  {
   "cell_type": "markdown",
   "id": "d1671144",
   "metadata": {},
   "source": [
    "This is getting into your testing training and spllitting."
   ]
  },
  {
   "cell_type": "code",
   "execution_count": 61,
   "id": "8d1fc3a0",
   "metadata": {},
   "outputs": [
    {
     "data": {
      "text/plain": [
       "array([0, 0, 0, ..., 0, 0, 0], dtype=uint8)"
      ]
     },
     "execution_count": 61,
     "metadata": {},
     "output_type": "execute_result"
    }
   ],
   "source": [
    "y_pred = dtc_ccp.predict(X_test_clean)\n",
    "y_pred"
   ]
  },
  {
   "cell_type": "code",
   "execution_count": 62,
   "id": "732e5980",
   "metadata": {},
   "outputs": [
    {
     "name": "stderr",
     "output_type": "stream",
     "text": [
      "C:\\Users\\metropolitanparkapts\\anaconda3\\lib\\site-packages\\sklearn\\utils\\deprecation.py:87: FutureWarning: Function plot_confusion_matrix is deprecated; Function `plot_confusion_matrix` is deprecated in 1.0 and will be removed in 1.2. Use one of the class methods: ConfusionMatrixDisplay.from_predictions or ConfusionMatrixDisplay.from_estimator.\n",
      "  warnings.warn(msg, category=FutureWarning)\n"
     ]
    },
    {
     "data": {
      "image/png": "[encoded data removed]",
      "text/plain": [
       "<Figure size 576x396 with 2 Axes>"
      ]
     },
     "metadata": {},
     "output_type": "display_data"
    }
   ],
   "source": [
    "plot_confusion_matrix(dtc_ccp, X_test_clean, y_test);\n",
    "plt.grid(False)"
   ]
  },
  {
   "cell_type": "code",
   "execution_count": 63,
   "id": "63fe3862",
   "metadata": {},
   "outputs": [
    {
     "name": "stderr",
     "output_type": "stream",
     "text": [
      "C:\\Users\\metropolitanparkapts\\anaconda3\\lib\\site-packages\\sklearn\\utils\\deprecation.py:87: FutureWarning: Function plot_confusion_matrix is deprecated; Function `plot_confusion_matrix` is deprecated in 1.0 and will be removed in 1.2. Use one of the class methods: ConfusionMatrixDisplay.from_predictions or ConfusionMatrixDisplay.from_estimator.\n",
      "  warnings.warn(msg, category=FutureWarning)\n"
     ]
    },
    {
     "data": {
      "text/plain": [
       "<sklearn.metrics._plot.confusion_matrix.ConfusionMatrixDisplay at 0x1f1e69f0fd0>"
      ]
     },
     "execution_count": 63,
     "metadata": {},
     "output_type": "execute_result"
    },
    {
     "data": {
      "image/png": "[encoded data removed]",
      "text/plain": [
       "<Figure size 576x396 with 2 Axes>"
      ]
     },
     "metadata": {},
     "output_type": "display_data"
    }
   ],
   "source": [
    "y_hat = model.predict(X_test_clean)\n",
    "model_accuracy = accuracy_score(y_test, y_hat)\n",
    "plot_confusion_matrix(model, X_test_clean, y_test)"
   ]
  },
  {
   "cell_type": "markdown",
   "id": "71a63311",
   "metadata": {},
   "source": [
    "# Recall = Sensitivity = \n",
    " \n",
    "\n",
    "## In words: How many of the terry stops  did my model identify?\n",
    "### This is the most important question because we are tring to preserve and make the best use of our time if we are correctly catching all of the Terry Stops then our data of how manyy of these stops lead to arrrests becomes a lot more accurate. "
   ]
  },
  {
   "cell_type": "markdown",
   "id": "8b51ea1b",
   "metadata": {},
   "source": [
    "MAPPING \n",
    "LABEL ENCODER \n",
    "ONE HOT ENCODER"
   ]
  },
  {
   "cell_type": "code",
   "execution_count": 73,
   "id": "c2f68d0d",
   "metadata": {},
   "outputs": [
    {
     "ename": "NameError",
     "evalue": "name 'rfc_params' is not defined",
     "output_type": "error",
     "traceback": [
      "\u001b[1;31m---------------------------------------------------------------------------\u001b[0m",
      "\u001b[1;31mNameError\u001b[0m                                 Traceback (most recent call last)",
      "\u001b[1;32m<ipython-input-73-9e9eea36959d>\u001b[0m in \u001b[0;36m<module>\u001b[1;34m\u001b[0m\n\u001b[1;32m----> 1\u001b[1;33m \u001b[0mfc_gs\u001b[0m \u001b[1;33m=\u001b[0m \u001b[0mGridSearchCV\u001b[0m\u001b[1;33m(\u001b[0m\u001b[0mestimator\u001b[0m\u001b[1;33m=\u001b[0m\u001b[0mrfc\u001b[0m\u001b[1;33m,\u001b[0m \u001b[0mparam_grid\u001b[0m\u001b[1;33m=\u001b[0m\u001b[0mrfc_params\u001b[0m\u001b[1;33m,\u001b[0m \u001b[0mcv\u001b[0m\u001b[1;33m=\u001b[0m\u001b[1;36m5\u001b[0m\u001b[1;33m)\u001b[0m\u001b[1;33m\u001b[0m\u001b[1;33m\u001b[0m\u001b[0m\n\u001b[0m\u001b[0;32m      2\u001b[0m \u001b[1;33m\u001b[0m\u001b[0m\n\u001b[0;32m      3\u001b[0m \u001b[0mrfc_gs\u001b[0m\u001b[1;33m.\u001b[0m\u001b[0mfit\u001b[0m\u001b[1;33m(\u001b[0m\u001b[0mX_train_clean\u001b[0m\u001b[1;33m,\u001b[0m \u001b[0my_train\u001b[0m\u001b[1;33m)\u001b[0m\u001b[1;33m\u001b[0m\u001b[1;33m\u001b[0m\u001b[0m\n\u001b[0;32m      4\u001b[0m \u001b[0mrfc_gs\u001b[0m\u001b[1;33m.\u001b[0m\u001b[0mscore\u001b[0m\u001b[1;33m(\u001b[0m\u001b[0mX_train_clean\u001b[0m\u001b[1;33m,\u001b[0m \u001b[0my_train\u001b[0m\u001b[1;33m)\u001b[0m\u001b[1;33m,\u001b[0m \u001b[0mrfc_gs\u001b[0m\u001b[1;33m.\u001b[0m\u001b[0mscore\u001b[0m\u001b[1;33m(\u001b[0m\u001b[0mX_test_clean\u001b[0m\u001b[1;33m,\u001b[0m \u001b[0my_test\u001b[0m\u001b[1;33m)\u001b[0m\u001b[1;33m\u001b[0m\u001b[1;33m\u001b[0m\u001b[0m\n",
      "\u001b[1;31mNameError\u001b[0m: name 'rfc_params' is not defined"
     ]
    }
   ],
   "source": [
    "\n"
   ]
  },
  {
   "cell_type": "code",
   "execution_count": null,
   "id": "c9148783",
   "metadata": {},
   "outputs": [],
   "source": [
    "DTR = DecisionTreeRegressor()"
   ]
  }
 ],
 "metadata": {
  "kernelspec": {
   "display_name": "Python 3",
   "language": "python",
   "name": "python3"
  },
  "language_info": {
   "codemirror_mode": {
    "name": "ipython",
    "version": 3
   },
   "file_extension": ".py",
   "mimetype": "text/x-python",
   "name": "python",
   "nbconvert_exporter": "python",
   "pygments_lexer": "ipython3",
   "version": "3.8.8"
  }
 },
 "nbformat": 4,
 "nbformat_minor": 5
}
